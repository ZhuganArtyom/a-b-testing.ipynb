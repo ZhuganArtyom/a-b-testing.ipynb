{
 "cells": [
  {
   "cell_type": "markdown",
   "metadata": {},
   "source": [
    "<font face='Liberation serif' size=4>**Описание: Приоритезация гипотез и анализ AB-теста.** Данные из интернет-магазина Есть два файла: гипотезы и заказы. Всего есть 9 гипотез, и нам нужно расставить их по приоритетам в соответствии с фреймворками RICE и ICE. «Гипотезы» включают четыре параметра: охват, влияние, уверенность и усилия. Второй набор данных содержит данные теста AB. Цель эксперимента - проверить, помогает ли нам новая регистрационная форма увеличить конверсию.  </font>"
   ]
  },
  {
   "cell_type": "markdown",
   "metadata": {},
   "source": [
    "1. [Открытие данных](#start)\n",
    "2. [Предобработка данных](#preprocessing)\n",
    "    * [Обработка пропущенных значений](#null)\n",
    "    * [Обработка дубликатов](#duplicates) "
   ]
  },
  {
   "cell_type": "markdown",
   "metadata": {},
   "source": [
    "<a id=\"start\"></a> "
   ]
  },
  {
   "cell_type": "code",
   "execution_count": 1,
   "metadata": {},
   "outputs": [
    {
     "data": {
      "text/html": [
       "<style>.container{width:80% !important;}</style>"
      ],
      "text/plain": [
       "<IPython.core.display.HTML object>"
      ]
     },
     "metadata": {},
     "output_type": "display_data"
    }
   ],
   "source": [
    "# Импортируем все необходмые библиотеки\n",
    "\n",
    "from collections import Counter \n",
    "import datetime as dt\n",
    "\n",
    "import pandas as pd\n",
    "pd.set_option('display.max_colwidth', -1)\n",
    "import numpy as np \n",
    "import seaborn as sns\n",
    "import matplotlib.pyplot as plt\n",
    "import plotly.express as px\n",
    "import scipy.stats as stats\n",
    "#import pandas_profiling as pd_p\n",
    "\n",
    "plt.style.use('dark_background')\n",
    "from IPython.core.display import display, HTML\n",
    "display(HTML('<style>.container{width:80% !important;}</style>'))\n",
    "from IPython.display import display, Markdown\n",
    "pd.set_option('display.float.format', lambda x: '%.3f' %x)"
   ]
  },
  {
   "cell_type": "markdown",
   "metadata": {},
   "source": [
    "<a id=\"preprocessing\"></a> "
   ]
  },
  {
   "cell_type": "code",
   "execution_count": 2,
   "metadata": {},
   "outputs": [
    {
     "data": {
      "text/html": [
       "<div>\n",
       "<style scoped>\n",
       "    .dataframe tbody tr th:only-of-type {\n",
       "        vertical-align: middle;\n",
       "    }\n",
       "\n",
       "    .dataframe tbody tr th {\n",
       "        vertical-align: top;\n",
       "    }\n",
       "\n",
       "    .dataframe thead th {\n",
       "        text-align: right;\n",
       "    }\n",
       "</style>\n",
       "<table border=\"1\" class=\"dataframe\">\n",
       "  <thead>\n",
       "    <tr style=\"text-align: right;\">\n",
       "      <th></th>\n",
       "      <th>hypothesis</th>\n",
       "      <th>reach</th>\n",
       "      <th>impact</th>\n",
       "      <th>confidence</th>\n",
       "      <th>efforts</th>\n",
       "    </tr>\n",
       "  </thead>\n",
       "  <tbody>\n",
       "    <tr>\n",
       "      <td>0</td>\n",
       "      <td>Добавить два новых канала привлечения трафика, что позволит привлекать на 30% больше пользователей</td>\n",
       "      <td>3</td>\n",
       "      <td>10</td>\n",
       "      <td>8</td>\n",
       "      <td>6</td>\n",
       "    </tr>\n",
       "    <tr>\n",
       "      <td>1</td>\n",
       "      <td>Запустить собственную службу доставки, что сократит срок доставки заказов</td>\n",
       "      <td>2</td>\n",
       "      <td>5</td>\n",
       "      <td>4</td>\n",
       "      <td>10</td>\n",
       "    </tr>\n",
       "    <tr>\n",
       "      <td>2</td>\n",
       "      <td>Добавить блоки рекомендаций товаров на сайт интернет магазина, чтобы повысить конверсию и средний чек заказа</td>\n",
       "      <td>8</td>\n",
       "      <td>3</td>\n",
       "      <td>7</td>\n",
       "      <td>3</td>\n",
       "    </tr>\n",
       "    <tr>\n",
       "      <td>3</td>\n",
       "      <td>Изменить структура категорий, что увеличит конверсию, т.к. пользователи быстрее найдут нужный товар</td>\n",
       "      <td>8</td>\n",
       "      <td>3</td>\n",
       "      <td>3</td>\n",
       "      <td>8</td>\n",
       "    </tr>\n",
       "    <tr>\n",
       "      <td>4</td>\n",
       "      <td>Изменить цвет фона главной страницы, чтобы увеличить вовлеченность пользователей</td>\n",
       "      <td>3</td>\n",
       "      <td>1</td>\n",
       "      <td>1</td>\n",
       "      <td>1</td>\n",
       "    </tr>\n",
       "    <tr>\n",
       "      <td>5</td>\n",
       "      <td>Добавить страницу отзывов клиентов о магазине, что позволит увеличить количество заказов</td>\n",
       "      <td>3</td>\n",
       "      <td>2</td>\n",
       "      <td>2</td>\n",
       "      <td>3</td>\n",
       "    </tr>\n",
       "    <tr>\n",
       "      <td>6</td>\n",
       "      <td>Показать на главной странице баннеры с актуальными акциями и распродажами, чтобы увеличить конверсию</td>\n",
       "      <td>5</td>\n",
       "      <td>3</td>\n",
       "      <td>8</td>\n",
       "      <td>3</td>\n",
       "    </tr>\n",
       "    <tr>\n",
       "      <td>7</td>\n",
       "      <td>Добавить форму подписки на все основные страницы, чтобы собрать базу клиентов для email-рассылок</td>\n",
       "      <td>10</td>\n",
       "      <td>7</td>\n",
       "      <td>8</td>\n",
       "      <td>5</td>\n",
       "    </tr>\n",
       "    <tr>\n",
       "      <td>8</td>\n",
       "      <td>Запустить акцию, дающую скидку на товар в день рождения</td>\n",
       "      <td>1</td>\n",
       "      <td>9</td>\n",
       "      <td>9</td>\n",
       "      <td>5</td>\n",
       "    </tr>\n",
       "  </tbody>\n",
       "</table>\n",
       "</div>"
      ],
      "text/plain": [
       "                                                                                                     hypothesis  \\\n",
       "0  Добавить два новых канала привлечения трафика, что позволит привлекать на 30% больше пользователей             \n",
       "1  Запустить собственную службу доставки, что сократит срок доставки заказов                                      \n",
       "2  Добавить блоки рекомендаций товаров на сайт интернет магазина, чтобы повысить конверсию и средний чек заказа   \n",
       "3  Изменить структура категорий, что увеличит конверсию, т.к. пользователи быстрее найдут нужный товар            \n",
       "4  Изменить цвет фона главной страницы, чтобы увеличить вовлеченность пользователей                               \n",
       "5  Добавить страницу отзывов клиентов о магазине, что позволит увеличить количество заказов                       \n",
       "6  Показать на главной странице баннеры с актуальными акциями и распродажами, чтобы увеличить конверсию           \n",
       "7  Добавить форму подписки на все основные страницы, чтобы собрать базу клиентов для email-рассылок               \n",
       "8  Запустить акцию, дающую скидку на товар в день рождения                                                        \n",
       "\n",
       "   reach  impact  confidence  efforts  \n",
       "0  3      10      8           6        \n",
       "1  2      5       4           10       \n",
       "2  8      3       7           3        \n",
       "3  8      3       3           8        \n",
       "4  3      1       1           1        \n",
       "5  3      2       2           3        \n",
       "6  5      3       8           3        \n",
       "7  10     7       8           5        \n",
       "8  1      9       9           5        "
      ]
     },
     "metadata": {},
     "output_type": "display_data"
    },
    {
     "name": "stdout",
     "output_type": "stream",
     "text": [
      "The dataframe includes 5 columns. They are called ['hypothesis', 'reach', 'impact', 'confidence', 'efforts']\n",
      " \n",
      "---------------------------------------------------------------------------\n",
      " \n",
      "<class 'pandas.core.frame.DataFrame'>\n",
      "RangeIndex: 9 entries, 0 to 8\n",
      "Data columns (total 5 columns):\n",
      "hypothesis    9 non-null object\n",
      "reach         9 non-null int64\n",
      "impact        9 non-null int64\n",
      "confidence    9 non-null int64\n",
      "efforts       9 non-null int64\n",
      "dtypes: int64(4), object(1)\n",
      "memory usage: 488.0+ bytes\n",
      "None\n",
      " \n",
      "---------------------------------------------------------------------------\n",
      " \n",
      "In column hypothesis there are 0 missing values\n",
      "In column reach there are 0 missing values\n",
      "In column impact there are 0 missing values\n",
      "In column confidence there are 0 missing values\n",
      "In column efforts there are 0 missing values\n",
      " \n",
      "---------------------------------------------------------------------------\n",
      " \n",
      "There are 0 duplicates\n"
     ]
    }
   ],
   "source": [
    "hypothesis = pd.read_csv('/datasets/hypothesis.csv')\n",
    "\n",
    "# cделаем столбцы строчными буквами\n",
    "hypothesis.columns = map(str.lower, hypothesis.columns)\n",
    "display(hypothesis)\n",
    "def print_columns_info_missing_values_and_duplicates(df):\n",
    "    print('The dataframe includes', df.loc[0 , :].count(), 'columns.',\n",
    "         'They are called', df.columns.to_list())\n",
    "    print(' ')\n",
    "    print('----------------------------------\\\n",
    "-----------------------------------------')\n",
    "    print(' ')\n",
    "    print(df.info())\n",
    "    print(' ')\n",
    "    print('----------------------------------\\\n",
    "-----------------------------------------')\n",
    "    print(' ')\n",
    "    for column in df.columns:\n",
    "        print('In column', column, 'there are', \n",
    "             df[column].isna().sum(), 'missing values')\n",
    "    print(' ')\n",
    "    print('----------------------------------\\\n",
    "-----------------------------------------')\n",
    "    print(' ')\n",
    "    print('There are', df.duplicated().sum(), 'duplicates')\n",
    "    \n",
    "print_columns_info_missing_values_and_duplicates(hypothesis)\n"
   ]
  },
  {
   "cell_type": "markdown",
   "metadata": {},
   "source": [
    "### Часть 1. Приоритизация гипотез."
   ]
  },
  {
   "cell_type": "code",
   "execution_count": 3,
   "metadata": {},
   "outputs": [
    {
     "name": "stdout",
     "output_type": "stream",
     "text": [
      "Гипотезы:\n"
     ]
    },
    {
     "data": {
      "text/plain": [
       "0    Добавить два новых канала привлечения трафика, что позволит привлекать на 30% больше пользователей          \n",
       "1    Запустить собственную службу доставки, что сократит срок доставки заказов                                   \n",
       "2    Добавить блоки рекомендаций товаров на сайт интернет магазина, чтобы повысить конверсию и средний чек заказа\n",
       "3    Изменить структура категорий, что увеличит конверсию, т.к. пользователи быстрее найдут нужный товар         \n",
       "4    Изменить цвет фона главной страницы, чтобы увеличить вовлеченность пользователей                            \n",
       "5    Добавить страницу отзывов клиентов о магазине, что позволит увеличить количество заказов                    \n",
       "6    Показать на главной странице баннеры с актуальными акциями и распродажами, чтобы увеличить конверсию        \n",
       "7    Добавить форму подписки на все основные страницы, чтобы собрать базу клиентов для email-рассылок            \n",
       "8    Запустить акцию, дающую скидку на товар в день рождения                                                     \n",
       "Name: hypothesis, dtype: object"
      ]
     },
     "metadata": {},
     "output_type": "display_data"
    }
   ],
   "source": [
    "print('Гипотезы:')\n",
    "display(hypothesis['hypothesis'])"
   ]
  },
  {
   "cell_type": "code",
   "execution_count": 4,
   "metadata": {},
   "outputs": [
    {
     "data": {
      "text/plain": [
       "<matplotlib.legend.Legend at 0x7fcf08241f10>"
      ]
     },
     "execution_count": 4,
     "metadata": {},
     "output_type": "execute_result"
    },
    {
     "data": {
      "image/png": "[encoded data removed]",
      "text/plain": [
       "<Figure size 1080x360 with 1 Axes>"
      ]
     },
     "metadata": {},
     "output_type": "display_data"
    }
   ],
   "source": [
    "plt.style.use('ggplot')\n",
    "\n",
    "\n",
    "# применим ICE \n",
    "hypothesis['ice_score'] = (hypothesis['impact'] * hypothesis['confidence'] \n",
    "                           / hypothesis['efforts'])\n",
    "# сохраним индексы \n",
    "hypothesis['number_of_hypothesis'] = hypothesis.index\n",
    "\n",
    "# чтобы не было нулевой гипотезы, добавим 1 как дельту\n",
    "hypothesis['number_of_hypothesis'] = hypothesis['number_of_hypothesis'] + 1\n",
    "\n",
    "# визуализируем как barplot\n",
    "hypothesis.\\\n",
    "    sort_values(by='ice_score', ascending=False).\\\n",
    "    plot(x='number_of_hypothesis', y='ice_score', grid=True, figsize=(15,5), \n",
    "         kind='bar',color='blue', fontsize = 15)\n",
    "plt.xticks(rotation=0)\n",
    "plt.legend(loc=1, prop={'size':20})"
   ]
  },
  {
   "cell_type": "markdown",
   "metadata": {},
   "source": [
    "Наиболее перспективным на данный момент является 9-е место, но оно не учитывает параметр Reach"
   ]
  },
  {
   "cell_type": "code",
   "execution_count": 5,
   "metadata": {},
   "outputs": [
    {
     "name": "stdout",
     "output_type": "stream",
     "text": [
      "The final hypothesis:\n",
      "\u001b[1mДобавить форму подписки на все основные страницы, чтобы собрать базу клиентов для email-рассылок\u001b[0m\n"
     ]
    },
    {
     "data": {
      "image/png": "[encoded data removed]",
      "text/plain": [
       "<Figure size 1080x360 with 1 Axes>"
      ]
     },
     "metadata": {},
     "output_type": "display_data"
    }
   ],
   "source": [
    "# RICE \n",
    "hypothesis['rice_score'] = (hypothesis['reach'] * hypothesis['impact'] * \n",
    "                            hypothesis['confidence'] / hypothesis['efforts'])\n",
    "\n",
    "# визуализируем как barplot\n",
    "hypothesis.\\\n",
    "    sort_values(by='rice_score', ascending=False).\\\n",
    "    plot(x='number_of_hypothesis', y='rice_score', grid=True, \n",
    "         figsize=(15,5), kind='bar',color='blue', fontsize = 20)\n",
    "plt.xticks(rotation=0)\n",
    "plt.legend(loc=1, prop={'size':20})\n",
    "\n",
    "# выводим финальную гипотезу\n",
    "print('The final hypothesis:')\n",
    "print('\\033[1m' + hypothesis['hypothesis'][7] + '\\033[0m')"
   ]
  },
  {
   "cell_type": "markdown",
   "metadata": {},
   "source": [
    "Похоже, что 8-я гипотеза достигает наибольшего числа пользователей, мы достаточно уверены в ней, и она окажет сопоставимое влияние."
   ]
  },
  {
   "cell_type": "markdown",
   "metadata": {},
   "source": [
    "\n",
    "В числе лидирующих есть 3, 1 и 7 гипотезы, но поскольку у них достаточно мало пользователей по сравнению с 8, мы не можем быть в них уверены.\n"
   ]
  },
  {
   "cell_type": "markdown",
   "metadata": {},
   "source": [
    "### Часть 2. Анализ A/B-теста."
   ]
  },
  {
   "cell_type": "code",
   "execution_count": 6,
   "metadata": {},
   "outputs": [
    {
     "name": "stdout",
     "output_type": "stream",
     "text": [
      "The dataframe includes 5 columns. They are called ['transactionId', 'visitorId', 'date', 'revenue', 'group']\n",
      " \n",
      "---------------------------------------------------------------------------\n",
      " \n",
      "<class 'pandas.core.frame.DataFrame'>\n",
      "RangeIndex: 1197 entries, 0 to 1196\n",
      "Data columns (total 5 columns):\n",
      "transactionId    1197 non-null int64\n",
      "visitorId        1197 non-null int64\n",
      "date             1197 non-null datetime64[ns]\n",
      "revenue          1197 non-null int64\n",
      "group            1197 non-null object\n",
      "dtypes: datetime64[ns](1), int64(3), object(1)\n",
      "memory usage: 46.9+ KB\n",
      "None\n",
      " \n",
      "---------------------------------------------------------------------------\n",
      " \n",
      "In column transactionId there are 0 missing values\n",
      "In column visitorId there are 0 missing values\n",
      "In column date there are 0 missing values\n",
      "In column revenue there are 0 missing values\n",
      "In column group there are 0 missing values\n",
      " \n",
      "---------------------------------------------------------------------------\n",
      " \n",
      "There are 0 duplicates\n"
     ]
    },
    {
     "data": {
      "text/html": [
       "<div>\n",
       "<style scoped>\n",
       "    .dataframe tbody tr th:only-of-type {\n",
       "        vertical-align: middle;\n",
       "    }\n",
       "\n",
       "    .dataframe tbody tr th {\n",
       "        vertical-align: top;\n",
       "    }\n",
       "\n",
       "    .dataframe thead th {\n",
       "        text-align: right;\n",
       "    }\n",
       "</style>\n",
       "<table border=\"1\" class=\"dataframe\">\n",
       "  <thead>\n",
       "    <tr style=\"text-align: right;\">\n",
       "      <th></th>\n",
       "      <th>transactionId</th>\n",
       "      <th>visitorId</th>\n",
       "      <th>date</th>\n",
       "      <th>revenue</th>\n",
       "      <th>group</th>\n",
       "    </tr>\n",
       "  </thead>\n",
       "  <tbody>\n",
       "    <tr>\n",
       "      <td>0</td>\n",
       "      <td>3667963787</td>\n",
       "      <td>3312258926</td>\n",
       "      <td>2019-08-15</td>\n",
       "      <td>1650</td>\n",
       "      <td>B</td>\n",
       "    </tr>\n",
       "    <tr>\n",
       "      <td>1</td>\n",
       "      <td>2804400009</td>\n",
       "      <td>3642806036</td>\n",
       "      <td>2019-08-15</td>\n",
       "      <td>730</td>\n",
       "      <td>B</td>\n",
       "    </tr>\n",
       "    <tr>\n",
       "      <td>2</td>\n",
       "      <td>2961555356</td>\n",
       "      <td>4069496402</td>\n",
       "      <td>2019-08-15</td>\n",
       "      <td>400</td>\n",
       "      <td>A</td>\n",
       "    </tr>\n",
       "    <tr>\n",
       "      <td>3</td>\n",
       "      <td>3797467345</td>\n",
       "      <td>1196621759</td>\n",
       "      <td>2019-08-15</td>\n",
       "      <td>9759</td>\n",
       "      <td>B</td>\n",
       "    </tr>\n",
       "    <tr>\n",
       "      <td>4</td>\n",
       "      <td>2282983706</td>\n",
       "      <td>2322279887</td>\n",
       "      <td>2019-08-15</td>\n",
       "      <td>2308</td>\n",
       "      <td>B</td>\n",
       "    </tr>\n",
       "    <tr>\n",
       "      <td>...</td>\n",
       "      <td>...</td>\n",
       "      <td>...</td>\n",
       "      <td>...</td>\n",
       "      <td>...</td>\n",
       "      <td>...</td>\n",
       "    </tr>\n",
       "    <tr>\n",
       "      <td>1192</td>\n",
       "      <td>2662137336</td>\n",
       "      <td>3733762160</td>\n",
       "      <td>2019-08-14</td>\n",
       "      <td>6490</td>\n",
       "      <td>B</td>\n",
       "    </tr>\n",
       "    <tr>\n",
       "      <td>1193</td>\n",
       "      <td>2203539145</td>\n",
       "      <td>370388673</td>\n",
       "      <td>2019-08-14</td>\n",
       "      <td>3190</td>\n",
       "      <td>A</td>\n",
       "    </tr>\n",
       "    <tr>\n",
       "      <td>1194</td>\n",
       "      <td>1807773912</td>\n",
       "      <td>573423106</td>\n",
       "      <td>2019-08-14</td>\n",
       "      <td>10550</td>\n",
       "      <td>A</td>\n",
       "    </tr>\n",
       "    <tr>\n",
       "      <td>1195</td>\n",
       "      <td>1947021204</td>\n",
       "      <td>1614305549</td>\n",
       "      <td>2019-08-14</td>\n",
       "      <td>100</td>\n",
       "      <td>A</td>\n",
       "    </tr>\n",
       "    <tr>\n",
       "      <td>1196</td>\n",
       "      <td>3936777065</td>\n",
       "      <td>2108080724</td>\n",
       "      <td>2019-08-15</td>\n",
       "      <td>202740</td>\n",
       "      <td>B</td>\n",
       "    </tr>\n",
       "  </tbody>\n",
       "</table>\n",
       "<p>1197 rows × 5 columns</p>\n",
       "</div>"
      ],
      "text/plain": [
       "      transactionId   visitorId       date  revenue group\n",
       "0     3667963787     3312258926 2019-08-15  1650     B   \n",
       "1     2804400009     3642806036 2019-08-15  730      B   \n",
       "2     2961555356     4069496402 2019-08-15  400      A   \n",
       "3     3797467345     1196621759 2019-08-15  9759     B   \n",
       "4     2282983706     2322279887 2019-08-15  2308     B   \n",
       "...          ...            ...        ...   ...    ..   \n",
       "1192  2662137336     3733762160 2019-08-14  6490     B   \n",
       "1193  2203539145     370388673  2019-08-14  3190     A   \n",
       "1194  1807773912     573423106  2019-08-14  10550    A   \n",
       "1195  1947021204     1614305549 2019-08-14  100      A   \n",
       "1196  3936777065     2108080724 2019-08-15  202740   B   \n",
       "\n",
       "[1197 rows x 5 columns]"
      ]
     },
     "metadata": {},
     "output_type": "display_data"
    }
   ],
   "source": [
    "# загрузка данных и просмотр их\n",
    "orders = (\n",
    "    pd.read_csv('/datasets/orders.csv', sep = ',').\n",
    "    assign(date = lambda x: pd.to_datetime(x['date'], format='%Y-%m-%d'))\n",
    ")\n",
    "\n",
    "\n",
    "# выведем общую информацию о датафрейме: \n",
    "print_columns_info_missing_values_and_duplicates(orders)\n",
    "display(orders)"
   ]
  },
  {
   "cell_type": "code",
   "execution_count": 7,
   "metadata": {},
   "outputs": [
    {
     "name": "stdout",
     "output_type": "stream",
     "text": [
      "The dataframe includes 3 columns. They are called ['date', 'group', 'visitors']\n",
      " \n",
      "---------------------------------------------------------------------------\n",
      " \n",
      "<class 'pandas.core.frame.DataFrame'>\n",
      "RangeIndex: 62 entries, 0 to 61\n",
      "Data columns (total 3 columns):\n",
      "date        62 non-null datetime64[ns]\n",
      "group       62 non-null object\n",
      "visitors    62 non-null int64\n",
      "dtypes: datetime64[ns](1), int64(1), object(1)\n",
      "memory usage: 1.6+ KB\n",
      "None\n",
      " \n",
      "---------------------------------------------------------------------------\n",
      " \n",
      "In column date there are 0 missing values\n",
      "In column group there are 0 missing values\n",
      "In column visitors there are 0 missing values\n",
      " \n",
      "---------------------------------------------------------------------------\n",
      " \n",
      "There are 0 duplicates\n"
     ]
    },
    {
     "data": {
      "text/html": [
       "<div>\n",
       "<style scoped>\n",
       "    .dataframe tbody tr th:only-of-type {\n",
       "        vertical-align: middle;\n",
       "    }\n",
       "\n",
       "    .dataframe tbody tr th {\n",
       "        vertical-align: top;\n",
       "    }\n",
       "\n",
       "    .dataframe thead th {\n",
       "        text-align: right;\n",
       "    }\n",
       "</style>\n",
       "<table border=\"1\" class=\"dataframe\">\n",
       "  <thead>\n",
       "    <tr style=\"text-align: right;\">\n",
       "      <th></th>\n",
       "      <th>date</th>\n",
       "      <th>group</th>\n",
       "      <th>visitors</th>\n",
       "    </tr>\n",
       "  </thead>\n",
       "  <tbody>\n",
       "    <tr>\n",
       "      <td>0</td>\n",
       "      <td>2019-08-01</td>\n",
       "      <td>A</td>\n",
       "      <td>719</td>\n",
       "    </tr>\n",
       "    <tr>\n",
       "      <td>1</td>\n",
       "      <td>2019-08-02</td>\n",
       "      <td>A</td>\n",
       "      <td>619</td>\n",
       "    </tr>\n",
       "    <tr>\n",
       "      <td>2</td>\n",
       "      <td>2019-08-03</td>\n",
       "      <td>A</td>\n",
       "      <td>507</td>\n",
       "    </tr>\n",
       "    <tr>\n",
       "      <td>3</td>\n",
       "      <td>2019-08-04</td>\n",
       "      <td>A</td>\n",
       "      <td>717</td>\n",
       "    </tr>\n",
       "    <tr>\n",
       "      <td>4</td>\n",
       "      <td>2019-08-05</td>\n",
       "      <td>A</td>\n",
       "      <td>756</td>\n",
       "    </tr>\n",
       "    <tr>\n",
       "      <td>...</td>\n",
       "      <td>...</td>\n",
       "      <td>...</td>\n",
       "      <td>...</td>\n",
       "    </tr>\n",
       "    <tr>\n",
       "      <td>57</td>\n",
       "      <td>2019-08-27</td>\n",
       "      <td>B</td>\n",
       "      <td>720</td>\n",
       "    </tr>\n",
       "    <tr>\n",
       "      <td>58</td>\n",
       "      <td>2019-08-28</td>\n",
       "      <td>B</td>\n",
       "      <td>654</td>\n",
       "    </tr>\n",
       "    <tr>\n",
       "      <td>59</td>\n",
       "      <td>2019-08-29</td>\n",
       "      <td>B</td>\n",
       "      <td>531</td>\n",
       "    </tr>\n",
       "    <tr>\n",
       "      <td>60</td>\n",
       "      <td>2019-08-30</td>\n",
       "      <td>B</td>\n",
       "      <td>490</td>\n",
       "    </tr>\n",
       "    <tr>\n",
       "      <td>61</td>\n",
       "      <td>2019-08-31</td>\n",
       "      <td>B</td>\n",
       "      <td>718</td>\n",
       "    </tr>\n",
       "  </tbody>\n",
       "</table>\n",
       "<p>62 rows × 3 columns</p>\n",
       "</div>"
      ],
      "text/plain": [
       "         date group  visitors\n",
       "0  2019-08-01  A     719     \n",
       "1  2019-08-02  A     619     \n",
       "2  2019-08-03  A     507     \n",
       "3  2019-08-04  A     717     \n",
       "4  2019-08-05  A     756     \n",
       "..        ... ..     ...     \n",
       "57 2019-08-27  B     720     \n",
       "58 2019-08-28  B     654     \n",
       "59 2019-08-29  B     531     \n",
       "60 2019-08-30  B     490     \n",
       "61 2019-08-31  B     718     \n",
       "\n",
       "[62 rows x 3 columns]"
      ]
     },
     "metadata": {},
     "output_type": "display_data"
    }
   ],
   "source": [
    "visitors = (\n",
    "    pd.read_csv('/datasets/visitors.csv', sep=',').\n",
    "    assign(date = lambda x: pd.to_datetime(x['date'], format='%Y-%m-%d'))\n",
    ")\n",
    "\n",
    "\n",
    "print_columns_info_missing_values_and_duplicates(visitors)\n",
    "display(visitors)"
   ]
  },
  {
   "cell_type": "code",
   "execution_count": 8,
   "metadata": {},
   "outputs": [
    {
     "data": {
      "text/plain": [
       "visitorId    58\n",
       "group        58\n",
       "dtype: int64"
      ]
     },
     "execution_count": 8,
     "metadata": {},
     "output_type": "execute_result"
    }
   ],
   "source": [
    "orders_double_group = orders.groupby('visitorId').agg({'group': 'nunique'}).reset_index()\n",
    "orders_double_group = orders_double_group.loc[orders_double_group['group'] > 1]\n",
    "orders_double_group.count()\n"
   ]
  },
  {
   "cell_type": "code",
   "execution_count": 9,
   "metadata": {},
   "outputs": [
    {
     "data": {
      "text/plain": [
       "(1197, 5)"
      ]
     },
     "execution_count": 9,
     "metadata": {},
     "output_type": "execute_result"
    }
   ],
   "source": [
    "orders.shape"
   ]
  },
  {
   "cell_type": "code",
   "execution_count": 10,
   "metadata": {},
   "outputs": [
    {
     "name": "stdout",
     "output_type": "stream",
     "text": [
      "Доля пользователей с неуникальной группой теста: 4.8%\n"
     ]
    }
   ],
   "source": [
    "print('Доля пользователей с неуникальной группой теста: {:.1%}'.format(orders_double_group['group'].count() / orders.shape[0]))"
   ]
  },
  {
   "cell_type": "markdown",
   "metadata": {},
   "source": [
    "Вывод: дубликатов в данных не наблюдается, пропущенные значений также нет, Доля пользователей с неуникальной группой теста: 4.8%, поскольку их не так много, то можно их не дропать."
   ]
  },
  {
   "cell_type": "markdown",
   "metadata": {},
   "source": [
    "с данными всё отлично, приступим к дальнейшему анализу!"
   ]
  },
  {
   "cell_type": "code",
   "execution_count": 11,
   "metadata": {},
   "outputs": [
    {
     "data": {
      "text/html": [
       "<div>\n",
       "<style scoped>\n",
       "    .dataframe tbody tr th:only-of-type {\n",
       "        vertical-align: middle;\n",
       "    }\n",
       "\n",
       "    .dataframe tbody tr th {\n",
       "        vertical-align: top;\n",
       "    }\n",
       "\n",
       "    .dataframe thead th {\n",
       "        text-align: right;\n",
       "    }\n",
       "</style>\n",
       "<table border=\"1\" class=\"dataframe\">\n",
       "  <thead>\n",
       "    <tr style=\"text-align: right;\">\n",
       "      <th></th>\n",
       "      <th>date</th>\n",
       "      <th>group</th>\n",
       "      <th>orders</th>\n",
       "      <th>buyers</th>\n",
       "      <th>revenue</th>\n",
       "      <th>visitors</th>\n",
       "    </tr>\n",
       "  </thead>\n",
       "  <tbody>\n",
       "    <tr>\n",
       "      <td>0</td>\n",
       "      <td>2019-08-01</td>\n",
       "      <td>A</td>\n",
       "      <td>24</td>\n",
       "      <td>20</td>\n",
       "      <td>148579</td>\n",
       "      <td>719</td>\n",
       "    </tr>\n",
       "    <tr>\n",
       "      <td>1</td>\n",
       "      <td>2019-08-01</td>\n",
       "      <td>B</td>\n",
       "      <td>21</td>\n",
       "      <td>20</td>\n",
       "      <td>101217</td>\n",
       "      <td>713</td>\n",
       "    </tr>\n",
       "    <tr>\n",
       "      <td>2</td>\n",
       "      <td>2019-08-02</td>\n",
       "      <td>A</td>\n",
       "      <td>44</td>\n",
       "      <td>38</td>\n",
       "      <td>242401</td>\n",
       "      <td>1338</td>\n",
       "    </tr>\n",
       "    <tr>\n",
       "      <td>3</td>\n",
       "      <td>2019-08-02</td>\n",
       "      <td>B</td>\n",
       "      <td>45</td>\n",
       "      <td>43</td>\n",
       "      <td>266748</td>\n",
       "      <td>1294</td>\n",
       "    </tr>\n",
       "    <tr>\n",
       "      <td>4</td>\n",
       "      <td>2019-08-03</td>\n",
       "      <td>A</td>\n",
       "      <td>68</td>\n",
       "      <td>62</td>\n",
       "      <td>354874</td>\n",
       "      <td>1845</td>\n",
       "    </tr>\n",
       "  </tbody>\n",
       "</table>\n",
       "</div>"
      ],
      "text/plain": [
       "        date group  orders  buyers  revenue  visitors\n",
       "0 2019-08-01  A     24      20      148579   719     \n",
       "1 2019-08-01  B     21      20      101217   713     \n",
       "2 2019-08-02  A     44      38      242401   1338    \n",
       "3 2019-08-02  B     45      43      266748   1294    \n",
       "4 2019-08-03  A     68      62      354874   1845    "
      ]
     },
     "execution_count": 11,
     "metadata": {},
     "output_type": "execute_result"
    }
   ],
   "source": [
    "# создание массива уникальных пар групп и дат\n",
    "dates_groups = orders[['date', 'group']].drop_duplicates()\n",
    "# совокупные данные заказа по датам\n",
    "\n",
    "orders_aggregated = dates_groups.apply(lambda x: \n",
    "                        orders[np.logical_and(orders['date'] <= x['date'], \n",
    "                                              orders['group'] == x['group'])]\\\n",
    "                        .agg({'date':'max', 'group':'max', \n",
    "                              'transactionId': pd.Series.nunique, \n",
    "                        'visitorId':pd.Series.nunique, 'revenue':'sum'}), axis=1).\\\n",
    "                        sort_values(by=['date', 'group'])\n",
    "\n",
    "# подсчет общего количества посетителей в день\n",
    " \n",
    "visitors_aggregated = dates_groups.apply(lambda x: \n",
    "                                        visitors[np.logical_and(visitors['date']<= x['date'], \n",
    "                                        visitors['group'] == x['group'])]\\\n",
    "                                        .agg({'date':'max', 'group':'max', \n",
    "                                              'visitors':'sum'}), axis=1).\\\n",
    "                                        sort_values(by=['date','group'])\n",
    "\n",
    "# объединение предыдущих результатов в dataframe\n",
    "cumulative_data = orders_aggregated.merge(visitors_aggregated, on=['date', 'group'])\n",
    "\n",
    "# переименование колонок\n",
    "cumulative_data.columns = ['date', 'group', 'orders', 'buyers', 'revenue', 'visitors']\n",
    "\n",
    "cumulative_data.head(5)"
   ]
  },
  {
   "cell_type": "markdown",
   "metadata": {},
   "source": [
    "#### Визуализация совокупной выручки по группам"
   ]
  },
  {
   "cell_type": "code",
   "execution_count": 12,
   "metadata": {},
   "outputs": [
    {
     "data": {
      "image/png": "[encoded data removed]",
      "text/plain": [
       "<Figure size 1080x720 with 1 Axes>"
      ]
     },
     "metadata": {},
     "output_type": "display_data"
    }
   ],
   "source": [
    "sns.set_style(\"dark\")\n",
    "plt.figure(figsize=(15,10))\n",
    "sns.lineplot(x=cumulative_data['date'], y=cumulative_data['revenue'], \n",
    "             hue=cumulative_data['group'])\n",
    "plt.title('Cumulative revenues by groups '+'\\n', fontsize=15)\n",
    "plt.xlabel('Date')\n",
    "plt.ylabel('Revenue')\n",
    "plt.grid(True)\n",
    "plt.legend(prop={'size': 15})\n",
    "plt.show()"
   ]
  },
  {
   "cell_type": "markdown",
   "metadata": {},
   "source": [
    "В течение первых четырех дней тестирования выручка для групп была примерно одинаковой, но после этого выручка для группы B начала расти быстрее, чем для группы A"
   ]
  },
  {
   "cell_type": "markdown",
   "metadata": {},
   "source": [
    "к концу второй недели теста выручка группы снова была примерно такой же, но позже группа B резко увеличилась 17 августа.\n"
   ]
  },
  {
   "cell_type": "markdown",
   "metadata": {},
   "source": [
    "\n",
    "Выручка пользователей, как в группе А, так и в группе Б растёт стабильно вверх, отсюда вывод, что выручка обоих групп стабилизировалась с положительной динамикой\n"
   ]
  },
  {
   "cell_type": "markdown",
   "metadata": {},
   "source": [
    "#### Построение кумулятивных средних поступлений по группам"
   ]
  },
  {
   "cell_type": "code",
   "execution_count": 13,
   "metadata": {},
   "outputs": [
    {
     "data": {
      "image/png": "[encoded data removed]",
      "text/plain": [
       "<Figure size 1080x720 with 1 Axes>"
      ]
     },
     "metadata": {},
     "output_type": "display_data"
    }
   ],
   "source": [
    "# создание фреймов данных, которые будут включать в себя совокупное количество посещений и заказов\n",
    "cumulative_revenue_a = cumulative_data[cumulative_data['group'] == 'A'][['date', \n",
    "                                                                         'revenue', 'orders']]\n",
    "cumulative_revenue_b = cumulative_data[cumulative_data['group'] == 'B'][['date', \n",
    "                                                                         'revenue', 'orders']]\n",
    "\n",
    "# построение динамики средней выручки по группам\n",
    "plt.style.use(\"ggplot\")\n",
    "plt.figure(figsize=(15,10))\n",
    "plt.plot(cumulative_revenue_a['date'], (cumulative_revenue_a['revenue'] / \n",
    "                                        cumulative_revenue_a['orders']), label='A')\n",
    "plt.plot(cumulative_revenue_b['date'], (cumulative_revenue_b['revenue'] / \n",
    "                                        cumulative_revenue_b['orders']), label='B')\n",
    "plt.title('Dynamic of cumulative average receipts by groups'+'\\n', fontsize=15)\n",
    "plt.xlabel('Date', fontsize=15)\n",
    "plt.ylabel('Amount spent', fontsize=15)\n",
    "plt.legend(prop={'size':15}) \n",
    "plt.show()"
   ]
  },
  {
   "cell_type": "markdown",
   "metadata": {},
   "source": [
    "До 17 августа динамика средних накопленных поступлений примерно аналогична, но меняется около 17 августа."
   ]
  },
  {
   "cell_type": "markdown",
   "metadata": {},
   "source": [
    "В группе Б мы снова видим резкий рост среднего чека в период с 17 по 21 августа, но затем он «возвращается к среднему»"
   ]
  },
  {
   "cell_type": "markdown",
   "metadata": {},
   "source": [
    "#### Построение динамики совокупной средней выручки в относительном выражении"
   ]
  },
  {
   "cell_type": "code",
   "execution_count": 14,
   "metadata": {},
   "outputs": [
    {
     "data": {
      "image/png": "[encoded data removed]",
      "text/plain": [
       "<Figure size 1080x720 with 1 Axes>"
      ]
     },
     "metadata": {},
     "output_type": "display_data"
    }
   ],
   "source": [
    "# сбор данных о средних чеках в dataframe\n",
    "merged_cumulative_revenue = cumulative_revenue_a.merge(\n",
    "    cumulative_revenue_b, left_on='date', right_on='date', suffixes=['A','B']\n",
    ")\n",
    "\n",
    "# построение относительной разницы\n",
    "merged_cumulative_revenue\n",
    "plt.figure(figsize=(15,10))\n",
    "plt.plot(merged_cumulative_revenue['date'], (merged_cumulative_revenue['revenueB'] / \n",
    "                                             merged_cumulative_revenue['ordersB']) / \n",
    "                                            (merged_cumulative_revenue['revenueA'] / \n",
    "                                             merged_cumulative_revenue['ordersA'])-1)\n",
    "plt.title('Относительная разница в совокупном среднем чеке двух групп'+'\\n', \n",
    "         fontsize=15)\n",
    "plt.axhline(y=0, color='black', linestyle='--')\n",
    "plt.ylabel('Relative difference')\n",
    "plt.xlabel('Date')\n",
    "plt.grid(True)\n",
    "plt.show()"
   ]
  },
  {
   "cell_type": "markdown",
   "metadata": {},
   "source": [
    "До 17 августа взаимосвязь между относительными изменениями средних проверок по группам не была установлена, но после 17 августа в группе В произошло что-то ненормальное, что значительно увеличило средний чек этой группы по отношению к среднему чеку. группа А"
   ]
  },
  {
   "cell_type": "markdown",
   "metadata": {},
   "source": [
    "#### Построение динамики кумулятивных конверсий по группам"
   ]
  },
  {
   "cell_type": "code",
   "execution_count": 15,
   "metadata": {},
   "outputs": [
    {
     "data": {
      "image/png": "[encoded data removed]",
      "text/plain": [
       "<Figure size 1080x720 with 1 Axes>"
      ]
     },
     "metadata": {},
     "output_type": "display_data"
    }
   ],
   "source": [
    "cumulative_data['conversion'] = cumulative_data['orders'] / cumulative_data['visitors']\n",
    "cumulative_data_a = cumulative_data[cumulative_data['group'] == 'A']\n",
    "cumulative_data_b = cumulative_data[cumulative_data['group'] == 'B']\n",
    "plt.figure(figsize=(15,10))\n",
    "plt.plot(cumulative_data_a['date'],\n",
    "        cumulative_data_a['conversion'], label='A')\n",
    "plt.plot(cumulative_data_b['date'], \n",
    "        cumulative_data_b['conversion'], label='B')\n",
    "plt.title('Group cumulative conversions', fontsize=15)\n",
    "plt.xlabel('Date')\n",
    "plt.ylabel('Conversion')\n",
    "plt.legend()\n",
    "plt.grid(True)\n",
    "plt.show()"
   ]
  },
  {
   "cell_type": "markdown",
   "metadata": {},
   "source": [
    "В течение первых двух дней группы колебались около одного и того же значения."
   ]
  },
  {
   "cell_type": "markdown",
   "metadata": {},
   "source": [
    "После 5 августа коэффициент конверсии группы Б стал выше и оставался выше на протяжении всего теста."
   ]
  },
  {
   "cell_type": "markdown",
   "metadata": {},
   "source": [
    "#### Относительная разница в накопленных конверсиях между группами"
   ]
  },
  {
   "cell_type": "code",
   "execution_count": 16,
   "metadata": {},
   "outputs": [
    {
     "data": {
      "image/png": "[encoded data removed]",
      "text/plain": [
       "<Figure size 1080x720 with 1 Axes>"
      ]
     },
     "metadata": {},
     "output_type": "display_data"
    }
   ],
   "source": [
    "# сделаем датафрейм с конверсиями по обеим группам\n",
    "merged_cumulative_conversions = cumulative_data_a[['date', 'conversion']].\\\n",
    "merge(cumulative_data_b[['date', 'conversion']], left_on='date', \n",
    "      right_on='date', how='left', suffixes=['A', 'B'])\n",
    "\n",
    "# построим график \n",
    "plt.figure(figsize=(15,10))\n",
    "plt.plot(merged_cumulative_conversions['date'],\n",
    "        (merged_cumulative_conversions['conversionB']/\n",
    "        merged_cumulative_conversions['conversionA'])-1)\n",
    "plt.axhline(y=0, color='black', linestyle='--')\n",
    "plt.xlabel('Date')\n",
    "plt.ylabel('Percent difference')\n",
    "plt.title('Relative difference in the cumulative conversions between the groups'+'\\n', \n",
    "          fontsize=15)\n",
    "plt.grid(True)\n",
    "plt.show()"
   ]
  },
  {
   "cell_type": "markdown",
   "metadata": {},
   "source": [
    "В течение первой недели теста конверсия колебалась, и по данным было невозможно сделать вывод"
   ]
  },
  {
   "cell_type": "markdown",
   "metadata": {},
   "source": [
    "После первой недели тестирования коэффициент конверсии группы B стал превосходить группу A и на данный момент он выше примерно на 10-15%\n"
   ]
  },
  {
   "cell_type": "markdown",
   "metadata": {},
   "source": [
    "Коэффициент конверсии уже зафиксирован, можно сделать вывод, что коэффициент конверсии в группе B выше\n"
   ]
  },
  {
   "cell_type": "markdown",
   "metadata": {},
   "source": [
    "#### Давайте более внимательно изучим заказы. Построение распределения количества заказов"
   ]
  },
  {
   "cell_type": "code",
   "execution_count": 17,
   "metadata": {},
   "outputs": [
    {
     "name": "stdout",
     "output_type": "stream",
     "text": [
      "Ten most frequent users:\n",
      "         user_id  orders\n",
      "1023  4256040402  11    \n",
      "591   2458001652  11    \n",
      "569   2378935119  9     \n",
      "487   2038680547  8     \n",
      "44    199603092   5     \n",
      "744   3062433592  5     \n",
      "55    237748145   5     \n",
      "917   3803269165  5     \n",
      "299   1230306981  5     \n",
      "897   3717692402  5     \n"
     ]
    },
    {
     "data": {
      "image/png": "[encoded data removed]",
      "text/plain": [
       "<Figure size 1080x720 with 1 Axes>"
      ]
     },
     "metadata": {},
     "output_type": "display_data"
    }
   ],
   "source": [
    "# сколько раз средний пользователь покупает?\n",
    "orders_by_users = orders.drop(['group', 'revenue', 'date'], axis=1).\\\n",
    "groupby('visitorId', as_index=False).agg({'transactionId':pd.Series.nunique})\n",
    "orders_by_users.columns = ['user_id', 'orders']\n",
    "\n",
    "# кто самые частые пользователи?\n",
    "print('Ten most frequent users:')\n",
    "print(orders_by_users.sort_values(by='orders', ascending=False).\\\n",
    "      head(10))\n",
    "\n",
    "# распределение количества заказов\n",
    "plt.figure(figsize=(15,10))\n",
    "plt.title('The distribution of the number of orders')\n",
    "plt.hist(orders_by_users['orders'])\n",
    "plt.xlabel('Количество покупок')\n",
    "plt.ylabel('Покупатели')\n",
    "plt.grid(True)\n",
    "plt.show()"
   ]
  },
  {
   "cell_type": "code",
   "execution_count": 18,
   "metadata": {},
   "outputs": [
    {
     "name": "stdout",
     "output_type": "stream",
     "text": [
      "Ten most frequent users:\n",
      "         user_id  orders\n",
      "1023  4256040402  11    \n",
      "591   2458001652  11    \n",
      "569   2378935119  9     \n",
      "487   2038680547  8     \n",
      "44    199603092   5     \n",
      "744   3062433592  5     \n",
      "55    237748145   5     \n",
      "917   3803269165  5     \n",
      "299   1230306981  5     \n",
      "897   3717692402  5     \n"
     ]
    },
    {
     "data": {
      "image/png": "[encoded data removed]",
      "text/plain": [
       "<Figure size 1080x720 with 1 Axes>"
      ]
     },
     "metadata": {},
     "output_type": "display_data"
    },
    {
     "data": {
      "image/png": "[encoded data removed]",
      "text/plain": [
       "<Figure size 1080x720 with 1 Axes>"
      ]
     },
     "metadata": {},
     "output_type": "display_data"
    }
   ],
   "source": [
    "# сколько раз средний пользователь покупает?\n",
    "orders_by_users = orders.drop(['group', 'revenue', 'date'], axis=1).\\\n",
    "groupby('visitorId', as_index=False).agg({'transactionId':pd.Series.nunique})\n",
    "orders_by_users.columns = ['user_id', 'orders']\n",
    "\n",
    "# кто самые частые пользователи?\n",
    "print('Ten most frequent users:')\n",
    "print(orders_by_users.sort_values(by='orders', ascending=False).\\\n",
    "      head(10))\n",
    "\n",
    "# распределение количества заказов\n",
    "plt.figure(figsize=(15,10))\n",
    "plt.title('The distribution of the number of orders')\n",
    "plt.hist(orders_by_users['orders'])\n",
    "plt.xlabel('Количество покупок')\n",
    "plt.ylabel('Покупатели')\n",
    "plt.grid(True)\n",
    "plt.show()\n",
    "\n",
    "#--------------------------------\n",
    "\n",
    "\n",
    "\n",
    "\n",
    "y_values = pd.Series(range(0, len(orders_by_users)))\n",
    "plt.figure(figsize=(15,10))\n",
    "plt.scatter(y_values, orders_by_users['orders'])\n",
    "plt.title('Revenue'+'\\n', \n",
    "          fontsize=15)\n",
    "plt.xlabel('Покупатели')\n",
    "plt.ylabel('Количество покупок')\n",
    "plt.grid(True)\n",
    "plt.show()"
   ]
  },
  {
   "cell_type": "markdown",
   "metadata": {},
   "source": [
    "Большинство пользователей заказали один раз\n"
   ]
  },
  {
   "cell_type": "markdown",
   "metadata": {},
   "source": [
    "Интересно, что значительное количество пользователей заказывали от 2 до 4 раз. Чтобы понять, следует ли считать количество заказов от 2 до 4 ненормальным, нам необходимо вычислить перцентили."
   ]
  },
  {
   "cell_type": "markdown",
   "metadata": {},
   "source": [
    "#### Расчет 95-го и 99-го перцентилей заказов"
   ]
  },
  {
   "cell_type": "code",
   "execution_count": 19,
   "metadata": {},
   "outputs": [
    {
     "name": "stdout",
     "output_type": "stream",
     "text": [
      "[2. 4.]\n"
     ]
    }
   ],
   "source": [
    "print(np.percentile(orders_by_users['orders'], [95,99]))"
   ]
  },
  {
   "cell_type": "markdown",
   "metadata": {},
   "source": [
    "Не более 5 процентов пользователей сделали более 2 заказов\n"
   ]
  },
  {
   "cell_type": "markdown",
   "metadata": {},
   "source": [
    "Не более 1 процента пользователей делают 4 и более заказа\n"
   ]
  },
  {
   "cell_type": "markdown",
   "metadata": {},
   "source": [
    "Оставим 2 как нижнюю границу\n"
   ]
  },
  {
   "cell_type": "markdown",
   "metadata": {},
   "source": [
    "#### График разброса дохода:"
   ]
  },
  {
   "cell_type": "code",
   "execution_count": 20,
   "metadata": {},
   "outputs": [
    {
     "data": {
      "image/png": "[encoded data removed]",
      "text/plain": [
       "<Figure size 1080x720 with 1 Axes>"
      ]
     },
     "metadata": {},
     "output_type": "display_data"
    },
    {
     "data": {
      "image/png": "[encoded data removed]",
      "text/plain": [
       "<Figure size 1080x720 with 1 Axes>"
      ]
     },
     "metadata": {},
     "output_type": "display_data"
    },
    {
     "data": {
      "image/png": "[encoded data removed]",
      "text/plain": [
       "<Figure size 1080x720 with 1 Axes>"
      ]
     },
     "metadata": {},
     "output_type": "display_data"
    }
   ],
   "source": [
    "# распределение доходов\n",
    "plt.figure(figsize=(15,10))\n",
    "plt.title('The distribution of the revenue')\n",
    "plt.hist(orders['revenue'])\n",
    "plt.xlabel('Amount')\n",
    "plt.ylabel('Number of orders')\n",
    "plt.grid(True)\n",
    "plt.show()\n",
    "\n",
    "\n",
    "x_values = pd.Series(range(0, len(orders['revenue'])))\n",
    "plt.figure(figsize=(15,10))\n",
    "plt.scatter(x_values, orders['revenue'])\n",
    "plt.title('Revenue'+'\\n', \n",
    "          fontsize=15)\n",
    "plt.xlabel('Orders')\n",
    "plt.ylabel('Amount')\n",
    "plt.grid(True)\n",
    "plt.show()\n",
    "\n",
    "# есть два необычных заказа: один на сумму более 1 миллиона, а другой около 200 тысяч\n",
    "# давайте посмотрим на диаграмму рассеяния без них\n",
    "x_values = pd.Series(range(0, len(orders['revenue'])))\n",
    "plt.figure(figsize=(15,10))\n",
    "plt.ylim(0, 200000)\n",
    "plt.scatter(x_values, orders['revenue'])\n",
    "plt.title('Revenue without outliers'+'\\n', \n",
    "          fontsize=15)\n",
    "plt.xlabel('Orders')\n",
    "plt.ylabel('Amount')\n",
    "plt.grid(True)\n",
    "plt.show()"
   ]
  },
  {
   "cell_type": "markdown",
   "metadata": {},
   "source": [
    "Почти все заказы меньше 50000.\n"
   ]
  },
  {
   "cell_type": "markdown",
   "metadata": {},
   "source": [
    "Есть два выброса\n"
   ]
  },
  {
   "cell_type": "code",
   "execution_count": 21,
   "metadata": {},
   "outputs": [
    {
     "name": "stdout",
     "output_type": "stream",
     "text": [
      "[28000.  58233.2]\n"
     ]
    }
   ],
   "source": [
    "print(np.percentile(orders['revenue'], [95, 99]))"
   ]
  },
  {
   "cell_type": "markdown",
   "metadata": {},
   "source": [
    "#### Различаются ли групповые конверсии статистически значимо?\n"
   ]
  },
  {
   "cell_type": "code",
   "execution_count": 22,
   "metadata": {},
   "outputs": [
    {
     "name": "stdout",
     "output_type": "stream",
     "text": [
      "<class 'pandas.core.frame.DataFrame'>\n",
      "RangeIndex: 1197 entries, 0 to 1196\n",
      "Data columns (total 5 columns):\n",
      "transactionId    1197 non-null int64\n",
      "visitorId        1197 non-null int64\n",
      "date             1197 non-null datetime64[ns]\n",
      "revenue          1197 non-null int64\n",
      "group            1197 non-null object\n",
      "dtypes: datetime64[ns](1), int64(3), object(1)\n",
      "memory usage: 46.9+ KB\n"
     ]
    },
    {
     "data": {
      "text/plain": [
       "None"
      ]
     },
     "metadata": {},
     "output_type": "display_data"
    },
    {
     "data": {
      "text/plain": [
       "['transactionId', 'visitorId', 'date', 'revenue', 'group']"
      ]
     },
     "metadata": {},
     "output_type": "display_data"
    },
    {
     "name": "stdout",
     "output_type": "stream",
     "text": [
      "<class 'pandas.core.frame.DataFrame'>\n",
      "RangeIndex: 62 entries, 0 to 61\n",
      "Data columns (total 3 columns):\n",
      "date        62 non-null datetime64[ns]\n",
      "group       62 non-null object\n",
      "visitors    62 non-null int64\n",
      "dtypes: datetime64[ns](1), int64(1), object(1)\n",
      "memory usage: 1.6+ KB\n"
     ]
    },
    {
     "data": {
      "text/plain": [
       "None"
      ]
     },
     "metadata": {},
     "output_type": "display_data"
    },
    {
     "data": {
      "text/plain": [
       "['date', 'group', 'visitors']"
      ]
     },
     "metadata": {},
     "output_type": "display_data"
    }
   ],
   "source": [
    "for df in [orders, visitors]:\n",
    "    display(df.info(), df.columns.to_list())"
   ]
  },
  {
   "cell_type": "markdown",
   "metadata": {},
   "source": [
    "#### Формулировка нулевой и альтернативной гипотез:\n"
   ]
  },
  {
   "cell_type": "markdown",
   "metadata": {},
   "source": [
    "H0: конверсия в группе A не отличается от конверсии в группе B"
   ]
  },
  {
   "cell_type": "markdown",
   "metadata": {},
   "source": [
    "H1: конверсии в двух группах различаются\n"
   ]
  },
  {
   "cell_type": "code",
   "execution_count": 23,
   "metadata": {},
   "outputs": [
    {
     "name": "stdout",
     "output_type": "stream",
     "text": [
      "p-value: 0.017\n",
      "Отклонение нуля\n",
      "В группе А конверсия ниже на -12.13%\n"
     ]
    }
   ],
   "source": [
    "# вычисление количества пользователей в данный день для группы A\n",
    "# для проведения статистического теста нам потребуются люди, которые купили и люди,\n",
    "# кто был у нас, но не купил\n",
    "visitors_a_daily = visitors[visitors['group'] == \"A\"][['date', 'visitors']]\n",
    "visitors_a_daily.columns = ['date', 'visitors_per_date_a']\n",
    "orders_by_users_a = orders[orders['group'] == 'A'].groupby('visitorId', \n",
    "                                                           as_index=False)\\\n",
    ".agg({'transactionId': pd.Series.nunique})\n",
    "\n",
    "# переименование столбцов\n",
    "orders_by_users_a.columns = ['user_id', 'orders']\n",
    "\n",
    "# объединение данных пользователей с серией, которая будет содержать нули для всех, кто посетил, но не купил\n",
    "\n",
    "sample_a = pd.concat([orders_by_users_a['orders'], \n",
    "                      pd.Series(0, index=np.arange(\n",
    "                          visitors_a_daily['visitors_per_date_a']\\\n",
    "                           .sum() - len(orders_by_users_a['orders'])),\n",
    "                                name='orders')], axis=0)\n",
    "\n",
    "# то же самое для группы B\n",
    "visitors_b_daily = visitors[visitors['group'] == 'B'][['date', 'visitors']]\n",
    "visitors_b_daily.columns = ['date', 'visitors_per_date_b']\n",
    "orders_by_users_b = orders[orders['group'] == 'B'].groupby('visitorId', \n",
    "                                                           as_index=False)\\\n",
    ".agg({'transactionId':pd.Series.nunique})\n",
    "\n",
    "# переименование столбцов\n",
    "orders_by_users_b.columns = ['user_id', 'orders']\n",
    "sample_b = pd.concat([orders_by_users_b['orders'], \n",
    "                      pd.Series(0, index=np.arange(\n",
    "                          visitors_b_daily['visitors_per_date_b']\\\n",
    "                            .sum() - len(orders_by_users_b['orders'])),\n",
    "                                name='orders')], axis=0)\n",
    "\n",
    "# наше распределение не похоже на нормальное, поэтому нам нужен тест Манна-Уитни\n",
    "mw_conversion_test_with_outliers = stats.mannwhitneyu(sample_a, sample_b, alternative = 'two-sided')\n",
    "alpha = 0.05\n",
    "print('p-value: {0:.3f}'.format(\n",
    "    mw_conversion_test_with_outliers.pvalue))\n",
    "\n",
    "if mw_conversion_test_with_outliers.pvalue < alpha:\n",
    "    print('Отклонение нуля')\n",
    "else:\n",
    "    print('Невозможно отклонить нуль')\n",
    "\n",
    "# относительная разница в конверсиях\n",
    "print('В группе А конверсия ниже на {0:.2%}'.\\\n",
    "      format(sample_a.mean()/sample_b.mean()-1))"
   ]
  },
  {
   "cell_type": "code",
   "execution_count": 24,
   "metadata": {},
   "outputs": [
    {
     "name": "stdout",
     "output_type": "stream",
     "text": [
      "В группе B конверсия выше на 13.81%\n"
     ]
    }
   ],
   "source": [
    "# Отношение группы В к А\n",
    "print('В группе B конверсия выше на {0:.2%}'.\\\n",
    "      format(abs(sample_b.mean()/sample_a.mean()-1)))"
   ]
  },
  {
   "cell_type": "markdown",
   "metadata": {},
   "source": [
    "#### Различаются ли средние чеки в группах статистически значимо?"
   ]
  },
  {
   "cell_type": "markdown",
   "metadata": {},
   "source": [
    "H0: средний чек не отличаются\n"
   ]
  },
  {
   "cell_type": "markdown",
   "metadata": {},
   "source": [
    "H1: средний чек в двух группах различаются\n"
   ]
  },
  {
   "cell_type": "markdown",
   "metadata": {},
   "source": [
    "Перед проведением статистического теста рассмотрим распределения\n"
   ]
  },
  {
   "cell_type": "code",
   "execution_count": 25,
   "metadata": {},
   "outputs": [
    {
     "data": {
      "image/png": "[encoded data removed]",
      "text/plain": [
       "<Figure size 936x648 with 1 Axes>"
      ]
     },
     "metadata": {},
     "output_type": "display_data"
    }
   ],
   "source": [
    "plt.figure(figsize=(13,9))\n",
    "sns.distplot(orders[orders['group']=='A']['revenue'], \n",
    "            kde=False, bins=30, label='A')\n",
    "sns.distplot(orders[orders['group']=='B']['revenue'],\n",
    "            kde=False, bins=30, label='B')\n",
    "plt.xlim(0, 200000)\n",
    "plt.ylabel('The number of orders')\n",
    "plt.xlabel('Amount spent')\n",
    "plt.legend()\n",
    "plt.grid(True)\n",
    "plt.show()"
   ]
  },
  {
   "cell_type": "markdown",
   "metadata": {},
   "source": [
    "Нам нужно избавиться от выбросов и еще раз просмотреть распределения."
   ]
  },
  {
   "cell_type": "code",
   "execution_count": 26,
   "metadata": {},
   "outputs": [
    {
     "name": "stdout",
     "output_type": "stream",
     "text": [
      "p-value: 0.729\n",
      "Failling to reject the null\n",
      "Средний чек в группе B составляет 25.87% выше, чем в группе А\n"
     ]
    }
   ],
   "source": [
    "mw_av_receipt_test_with_outliers = stats.mannwhitneyu(orders[orders['group']=='A']['revenue'],\n",
    "                                                      orders[orders['group']=='B']['revenue'], alternative = 'two-sided')\n",
    "\n",
    "# p-value\n",
    "print('p-value: {0:.3f}'.format(mw_av_receipt_test_with_outliers.pvalue))\n",
    "\n",
    "\n",
    "if mw_av_receipt_test_with_outliers.pvalue < alpha:\n",
    "    print('Rejecting the null')\n",
    "else:\n",
    "    print('Failling to reject the null')\n",
    "\n",
    "# относительная разница в средних поступлениях\n",
    "diff_in_av_receipts = (orders[orders['group']=='B']\n",
    "    ['revenue'].mean() / orders[orders['group']=='A']['revenue'].mean()- 1)\n",
    "\n",
    "print('Средний чек в группе B составляет {0:.2%} выше, чем в группе А'.format(diff_in_av_receipts))"
   ]
  },
  {
   "cell_type": "markdown",
   "metadata": {},
   "source": [
    "средний чек не отличаются статистически значимо\n"
   ]
  },
  {
   "cell_type": "markdown",
   "metadata": {},
   "source": [
    "однако средний чек в группе B почти на 26% выше.\n"
   ]
  },
  {
   "cell_type": "markdown",
   "metadata": {},
   "source": [
    "#### Избавимся от выбросов и повторим тесты"
   ]
  },
  {
   "cell_type": "code",
   "execution_count": 27,
   "metadata": {},
   "outputs": [
    {
     "name": "stdout",
     "output_type": "stream",
     "text": [
      "1099    148427295\n",
      "44      199603092\n",
      "928     204675465\n",
      "Name: visitorId, dtype: int64 (83,)\n"
     ]
    }
   ],
   "source": [
    "orders_by_users = orders.groupby('visitorId', as_index=False).\\\n",
    "agg({'transactionId':pd.Series.nunique})\n",
    "\n",
    "# берем только пользователей, заказавших не более 2 раз\n",
    "users_with_many_orders = orders_by_users[orders_by_users['transactionId'] > np.\\\n",
    "                                         percentile(orders_by_users['transactionId'], \n",
    "                                                    95)]['visitorId']\n",
    "\n",
    "# и потратил не более 28 тыс.\n",
    "users_with_expensive_orders = orders[orders['revenue'] > np.\\\n",
    "                                    percentile(orders['revenue'], 95)]['visitorId']\n",
    "\n",
    "# # объединение их в один dataframe  \n",
    "abnormal_users = pd.concat([users_with_many_orders, users_with_expensive_orders],\n",
    "                           axis=0).drop_duplicates().sort_values()\n",
    "\n",
    "print(abnormal_users.head(3), \n",
    "      abnormal_users.shape)\n",
    "\n",
    "# фильтрация данных\n",
    "sample_a_filtered = pd.concat([orders_by_users_a[np.logical_not(\n",
    "    orders_by_users_a['user_id'].isin(abnormal_users))]['orders'], \n",
    "    pd.Series(0, index=np.arange(visitors_a_daily['visitors_per_date_a']\\\n",
    "            .sum() - len(orders_by_users_a['orders'])),\n",
    "                name='orders')], axis=0)\n",
    "    \n",
    "sample_b_filtered = pd.concat([orders_by_users_b[np.logical_not(\n",
    "    orders_by_users_b['user_id'].isin(abnormal_users))]['orders'], \n",
    "    pd.Series(0, index=np.arange(visitors_b_daily['visitors_per_date_b']\\\n",
    "            .sum() - len(orders_by_users_b['orders'])),\n",
    "                name='orders')], axis=0)"
   ]
  },
  {
   "cell_type": "code",
   "execution_count": 28,
   "metadata": {},
   "outputs": [
    {
     "name": "stdout",
     "output_type": "stream",
     "text": [
      "p-value 0.012\n",
      "Rejecting the null\n",
      "Конверсия группы A ниже на 14.94%\n"
     ]
    }
   ],
   "source": [
    "mw_conversion_test_without_outliers = stats.mannwhitneyu(sample_a_filtered, \n",
    "                                                         sample_b_filtered, alternative = 'two-sided')\n",
    "alpha = 0.05\n",
    "print('p-value {0:.3f}'.format(mw_conversion_test_without_outliers.pvalue))\n",
    "if mw_conversion_test_without_outliers.pvalue < alpha:\n",
    "    print('Rejecting the null')\n",
    "else:\n",
    "    print('Failing to reject the null')\n",
    "print('Конверсия группы A ниже на {0:.2%}'.\\\n",
    "      format(abs(sample_a_filtered.mean()/sample_b_filtered.mean()-1)))"
   ]
  },
  {
   "cell_type": "markdown",
   "metadata": {},
   "source": [
    "Основываясь на результатах статистического непараметрического критерия Манна-Уитни для данных с выбросами и без них, можно сделать вывод, что конверсия в группе B выше, и это статистически значимая разница"
   ]
  },
  {
   "cell_type": "markdown",
   "metadata": {},
   "source": [
    "#### Различаются ли средние поступления на данных без выбросов?"
   ]
  },
  {
   "cell_type": "code",
   "execution_count": 29,
   "metadata": {},
   "outputs": [
    {
     "data": {
      "image/png": "[encoded data removed]",
      "text/plain": [
       "<Figure size 648x432 with 1 Axes>"
      ]
     },
     "metadata": {},
     "output_type": "display_data"
    }
   ],
   "source": [
    "plt.figure(figsize=(9,6))\n",
    "sns.distplot(orders[np.logical_and(\n",
    "        orders['group']==\"A\",\n",
    "        np.logical_not(orders['visitorId'].isin(abnormal_users)))]['revenue'],\n",
    "             label=\"A\", kde=False)\n",
    "sns.distplot(orders[np.logical_and(\n",
    "        orders['group']==\"B\",\n",
    "        np.logical_not(orders['visitorId'].isin(abnormal_users)))]['revenue'], \n",
    "             label=\"B\", kde=False)\n",
    "plt.ylabel('Number of orders')\n",
    "plt.xlabel('Amount spent')\n",
    "plt.title('Distribution of the revenue')\n",
    "plt.legend()\n",
    "plt.grid(True)\n",
    "plt.show()"
   ]
  },
  {
   "cell_type": "code",
   "execution_count": 30,
   "metadata": {},
   "outputs": [
    {
     "name": "stdout",
     "output_type": "stream",
     "text": [
      "p-value: 0.753\n",
      "Failed to reject the null\n",
      "В группе А конверсия ниже на 2.21%\n"
     ]
    }
   ],
   "source": [
    "# Тест Манна Уитни\n",
    "mw_av_receipt_test_without_outliers = stats.mannwhitneyu(\n",
    "    orders[np.logical_and(\n",
    "        orders['group']==\"A\",\n",
    "        np.logical_not(orders['visitorId'].isin(abnormal_users)))]['revenue'],\n",
    "    orders[np.logical_and(\n",
    "        orders['group']==\"B\",\n",
    "        np.logical_not(orders['visitorId'].isin(abnormal_users)))]['revenue'], alternative = 'two-sided')\n",
    "print('p-value: {0:.3f}'.format(mw_av_receipt_test_without_outliers.pvalue))\n",
    "if mw_av_receipt_test_without_outliers.pvalue < alpha:\n",
    "    print('Rejecting the null')\n",
    "else:\n",
    "    print('Failed to reject the null')\n",
    "\n",
    "\n",
    "# посчитаем относительное разиличие в чеках\n",
    "print('В группе А конверсия ниже на {0:.2%}'.format(\n",
    "    abs(orders[np.logical_and(orders['group']=='B',\n",
    "                              np.logical_not(orders['visitorId'].\\\n",
    "                                             isin(abnormal_users)))]['revenue'].mean()/\n",
    "    orders[np.logical_and(\n",
    "        orders['group']=='A',\n",
    "        np.logical_not(orders['visitorId'].\\\n",
    "                       isin(abnormal_users)))]['revenue'].mean() - 1)))"
   ]
  },
  {
   "cell_type": "markdown",
   "metadata": {},
   "source": [
    "Мы все еще не можем отвергнуть нулевые гипотезы, однако мы могли видеть, что большое разнообразие было связано с выбросами."
   ]
  },
  {
   "cell_type": "markdown",
   "metadata": {},
   "source": [
    "<font face='Liberation serif' size=4>**Проведенный анализ позволяет сделать следующие выводы:** </font>"
   ]
  },
  {
   "cell_type": "markdown",
   "metadata": {},
   "source": [
    "К концу второй недели выручка по группам была примерно равной, но позже у группы Б 17 августа произошел резкий рост, что было вызвано аномально большим заказом (более 1 миллиона 200 тысяч). Статистически значимой разницы в размере средних чеков по группам нет."
   ]
  },
  {
   "cell_type": "markdown",
   "metadata": {},
   "source": [
    "После 5 августа конверсия группы Б стала выше, а позже была зафиксирована. Мы получили статистически значимую разницу в конверсиях двух групп.\n"
   ]
  },
  {
   "cell_type": "markdown",
   "metadata": {},
   "source": [
    "<font face='Liberation serif' size=4>**Общий вывод:** </font>"
   ]
  },
  {
   "cell_type": "markdown",
   "metadata": {},
   "source": [
    "Наблюдается статистическое значимое различие по конверсии между группами как по «сырым», так и по данным после фильтрации аномалий;\n",
    "Нет статистически значимого различия по среднему чеку между группами ни по «сырым», ни по данным после фильтрации аномалий;\n",
    "График различия конверсии между группами сообщает, что результаты группы B лучше результатов группы A, но в тоже время наблюдается тенденция к снижению;\n",
    "График различия среднего чека говорит о том, что результаты группы B показывают намного лучше результаты, чем группа A, но в тоже время они тоже снижаются.\n",
    "Исходя из обнаруженных фактов, тест следует остановить и признать победу за группой B. Продолжать смысла нет, потому как вероятность, что при имеющихся данных сегмент A станет на самом деле лучше сегмента B — практически нулевая."
   ]
  },
  {
   "cell_type": "markdown",
   "metadata": {},
   "source": [
    "<font face='Liberation serif' size=4>**Общий вывод (попытка №2):** </font>"
   ]
  },
  {
   "cell_type": "markdown",
   "metadata": {},
   "source": [
    "Перед нами стояла цель приоритизировать гипотезы, запустить A/B-тест и проанализировать результаты. В нашем распоряжении были следующие данные:"
   ]
  },
  {
   "cell_type": "markdown",
   "metadata": {},
   "source": [
    "<font face='Liberation serif' size=4>**Данные для первой части:** </font>"
   ]
  },
  {
   "cell_type": "markdown",
   "metadata": {},
   "source": [
    "Файл /datasets/hypothesis.csv :\\\n",
    "• Hypothesis — краткое описание гипотезы;\\\n",
    "• Reach — охват пользователей по 10-балльной шкале;\\\n",
    "• Impact — влияние на пользователей по 10-балльной шкале;\\\n",
    "• Confidence — уверенность в гипотезе по 10-балльной шкале;\\\n",
    "• Efforts — затраты ресурсов на проверку гипотезы по 10-балльной шкале. Чем больше значение Efforts, тем дороже проверка гипотезы."
   ]
  },
  {
   "cell_type": "markdown",
   "metadata": {},
   "source": [
    "<font face='Liberation serif' size=4>**Данные для второй части:** </font>"
   ]
  },
  {
   "cell_type": "markdown",
   "metadata": {},
   "source": [
    "Файл /datasets/orders.csv :\\\n",
    "• transactionId — идентификатор заказа;\\\n",
    "• visitorId — идентификатор пользователя, совершившего заказ;\\\n",
    "• date — дата, когда был совершён заказ;\\\n",
    "• revenue — выручка заказа;\\\n",
    "• group — группа A/B-теста, в которую попал заказ."
   ]
  },
  {
   "cell_type": "markdown",
   "metadata": {},
   "source": [
    "Файл /datasets/visitors.csv :\\\n",
    "• date — дата;\\\n",
    "• group — группа A/B-теста;\\\n",
    "• visitors — количество пользователей в указанную дату в указанной группе A/B-теста"
   ]
  },
  {
   "cell_type": "markdown",
   "metadata": {},
   "source": [
    "Данные видоизменил совсем немного: В данных hypothesis все колонки привёл к нижнему регистру для удобности, далее привёл к нужному типу некоторые столбцы (например date).\\\n",
    "Выяснил, что % пользователей, попавших в обе группы теста составялет 4.8%, это не так много, поэтому решил их не дропать.\n",
    "Анализировал данные с помощью анализа бизнес-метрик и проверки различных гипотез.\\\n",
    "Я обнаружил, что 8-ая гипотеза достигает наибольшего числа пользователей и поэтому она окажет сопоставимое влияние.\\\n",
    "После первой недели тестирования коэффициент конверсии группы B стал превосходить группу A и на данный момент он выше примерно на 10-15%, что не может нас не радовать!\\\n",
    "Мы выяснили, что не более 5 процентов пользователей сделали более 2 заказов и почти все заказы меньше 50000₽.\\\n",
    "В группе B конверсия выше на 13.81%\\\n",
    "Средний чек не отличаются статистически значимо, однако средний чек в группе B почти на 26% выше.\n",
    "Конверсия группы A ниже на 14.94%\n",
    "После 5 августа конверсия группы Б стала выше, а позже была зафиксирована. Мы получили статистически значимую разницу в конверсиях двух групп.\n",
    "\n",
    "\n",
    "\n",
    "\n",
    "\n"
   ]
  }
 ],
 "metadata": {
  "ExecuteTimeLog": [
   {
    "duration": 1705,
    "start_time": "2021-10-09T12:48:20.871Z"
   },
   {
    "duration": 30,
    "start_time": "2021-10-09T12:48:22.578Z"
   },
   {
    "duration": 11,
    "start_time": "2021-10-09T12:49:40.825Z"
   },
   {
    "duration": 4,
    "start_time": "2021-10-09T12:50:00.142Z"
   },
   {
    "duration": 6,
    "start_time": "2021-10-09T12:50:15.425Z"
   },
   {
    "duration": 5,
    "start_time": "2021-10-09T12:50:27.166Z"
   },
   {
    "duration": 6,
    "start_time": "2021-10-09T12:50:51.259Z"
   },
   {
    "duration": 241,
    "start_time": "2021-10-09T12:55:26.324Z"
   },
   {
    "duration": 10,
    "start_time": "2021-10-09T13:11:58.549Z"
   },
   {
    "duration": 363,
    "start_time": "2021-10-09T13:16:21.443Z"
   },
   {
    "duration": 354,
    "start_time": "2021-10-09T13:16:27.166Z"
   },
   {
    "duration": 228,
    "start_time": "2021-10-09T13:18:37.495Z"
   },
   {
    "duration": 243,
    "start_time": "2021-10-09T13:18:42.693Z"
   },
   {
    "duration": 229,
    "start_time": "2021-10-09T13:18:46.382Z"
   },
   {
    "duration": 309,
    "start_time": "2021-10-09T13:18:50.682Z"
   },
   {
    "duration": 220,
    "start_time": "2021-10-09T13:18:52.912Z"
   },
   {
    "duration": 231,
    "start_time": "2021-10-09T13:18:56.529Z"
   },
   {
    "duration": 245,
    "start_time": "2021-10-09T13:18:59.814Z"
   },
   {
    "duration": 358,
    "start_time": "2021-10-09T13:20:05.893Z"
   },
   {
    "duration": 335,
    "start_time": "2021-10-09T13:20:10.115Z"
   },
   {
    "duration": 240,
    "start_time": "2021-10-09T13:20:12.672Z"
   },
   {
    "duration": 234,
    "start_time": "2021-10-09T13:20:18.154Z"
   },
   {
    "duration": 252,
    "start_time": "2021-10-09T13:20:22.223Z"
   },
   {
    "duration": 249,
    "start_time": "2021-10-09T13:20:28.823Z"
   },
   {
    "duration": 268,
    "start_time": "2021-10-09T13:20:32.123Z"
   },
   {
    "duration": 231,
    "start_time": "2021-10-09T13:24:34.695Z"
   },
   {
    "duration": 211,
    "start_time": "2021-10-09T13:27:44.200Z"
   },
   {
    "duration": 1959,
    "start_time": "2021-10-09T13:45:01.409Z"
   },
   {
    "duration": 49,
    "start_time": "2021-10-09T13:45:28.541Z"
   },
   {
    "duration": 49,
    "start_time": "2021-10-09T13:46:18.804Z"
   },
   {
    "duration": 2215,
    "start_time": "2021-10-09T13:46:25.143Z"
   },
   {
    "duration": 30,
    "start_time": "2021-10-09T13:46:36.927Z"
   },
   {
    "duration": 348,
    "start_time": "2021-10-09T13:48:57.011Z"
   },
   {
    "duration": 629,
    "start_time": "2021-10-09T13:49:50.618Z"
   },
   {
    "duration": 1148,
    "start_time": "2021-10-09T13:54:58.498Z"
   },
   {
    "duration": 458,
    "start_time": "2021-10-09T13:55:03.496Z"
   },
   {
    "duration": 392,
    "start_time": "2021-10-09T13:57:12.842Z"
   },
   {
    "duration": 422,
    "start_time": "2021-10-09T13:57:59.186Z"
   },
   {
    "duration": 511,
    "start_time": "2021-10-09T13:58:02.644Z"
   },
   {
    "duration": 401,
    "start_time": "2021-10-09T13:58:05.900Z"
   },
   {
    "duration": 155,
    "start_time": "2021-10-09T13:58:32.183Z"
   },
   {
    "duration": 645,
    "start_time": "2021-10-09T13:58:48.179Z"
   },
   {
    "duration": 655,
    "start_time": "2021-10-09T13:58:52.235Z"
   },
   {
    "duration": 471,
    "start_time": "2021-10-09T13:59:39.485Z"
   },
   {
    "duration": 410,
    "start_time": "2021-10-09T14:00:06.992Z"
   },
   {
    "duration": 405,
    "start_time": "2021-10-09T14:00:15.549Z"
   },
   {
    "duration": 483,
    "start_time": "2021-10-09T14:02:15.894Z"
   },
   {
    "duration": 479,
    "start_time": "2021-10-09T14:03:12.599Z"
   },
   {
    "duration": 635,
    "start_time": "2021-10-09T14:03:16.324Z"
   },
   {
    "duration": 1043,
    "start_time": "2021-10-09T14:03:18.913Z"
   },
   {
    "duration": 537,
    "start_time": "2021-10-09T14:03:21.147Z"
   },
   {
    "duration": 518,
    "start_time": "2021-10-09T14:03:48.103Z"
   },
   {
    "duration": 417,
    "start_time": "2021-10-09T14:11:03.331Z"
   },
   {
    "duration": 493,
    "start_time": "2021-10-09T14:12:30.396Z"
   },
   {
    "duration": 496,
    "start_time": "2021-10-09T15:36:45.643Z"
   },
   {
    "duration": 5,
    "start_time": "2021-10-09T15:39:24.808Z"
   },
   {
    "duration": 1897,
    "start_time": "2021-10-09T15:43:42.227Z"
   },
   {
    "duration": 15,
    "start_time": "2021-10-09T15:45:11.102Z"
   },
   {
    "duration": 122,
    "start_time": "2021-10-09T15:48:23.012Z"
   },
   {
    "duration": 130,
    "start_time": "2021-10-09T15:49:00.638Z"
   },
   {
    "duration": 120,
    "start_time": "2021-10-09T15:50:16.664Z"
   },
   {
    "duration": 152,
    "start_time": "2021-10-09T15:50:32.206Z"
   },
   {
    "duration": 74,
    "start_time": "2021-10-09T15:51:09.290Z"
   },
   {
    "duration": 79,
    "start_time": "2021-10-09T15:51:13.509Z"
   },
   {
    "duration": 4,
    "start_time": "2021-10-09T15:51:21.577Z"
   },
   {
    "duration": 476,
    "start_time": "2021-10-09T15:52:45.100Z"
   },
   {
    "duration": 80,
    "start_time": "2021-10-09T15:53:00.344Z"
   },
   {
    "duration": 12,
    "start_time": "2021-10-09T15:54:42.224Z"
   },
   {
    "duration": 14,
    "start_time": "2021-10-09T15:55:44.786Z"
   },
   {
    "duration": 174,
    "start_time": "2021-10-09T15:58:00.001Z"
   },
   {
    "duration": 10,
    "start_time": "2021-10-09T15:58:53.511Z"
   },
   {
    "duration": 394,
    "start_time": "2021-10-09T15:59:47.196Z"
   },
   {
    "duration": 15,
    "start_time": "2021-10-09T16:00:05.611Z"
   },
   {
    "duration": 14,
    "start_time": "2021-10-09T16:00:30.027Z"
   },
   {
    "duration": 2229,
    "start_time": "2021-10-10T03:27:53.096Z"
   },
   {
    "duration": 39,
    "start_time": "2021-10-10T03:27:55.328Z"
   },
   {
    "duration": 8,
    "start_time": "2021-10-10T03:27:55.370Z"
   },
   {
    "duration": 402,
    "start_time": "2021-10-10T03:27:55.381Z"
   },
   {
    "duration": 401,
    "start_time": "2021-10-10T03:27:55.786Z"
   },
   {
    "duration": 103,
    "start_time": "2021-10-10T03:27:56.189Z"
   },
   {
    "duration": 39,
    "start_time": "2021-10-10T03:27:56.295Z"
   },
   {
    "duration": 616,
    "start_time": "2021-10-10T03:27:56.339Z"
   },
   {
    "duration": 914,
    "start_time": "2021-10-10T03:27:56.958Z"
   },
   {
    "duration": 730,
    "start_time": "2021-10-10T03:27:57.874Z"
   },
   {
    "duration": 804,
    "start_time": "2021-10-10T03:27:58.607Z"
   },
   {
    "duration": 770,
    "start_time": "2021-10-10T03:27:59.413Z"
   },
   {
    "duration": 942,
    "start_time": "2021-10-10T03:28:00.186Z"
   },
   {
    "duration": 826,
    "start_time": "2021-10-10T03:28:01.130Z"
   },
   {
    "duration": 6,
    "start_time": "2021-10-10T03:28:01.959Z"
   },
   {
    "duration": 2443,
    "start_time": "2021-10-10T03:28:01.967Z"
   },
   {
    "duration": 18,
    "start_time": "2021-10-10T03:28:04.412Z"
   },
   {
    "duration": 273,
    "start_time": "2021-10-10T03:28:04.432Z"
   },
   {
    "duration": 5,
    "start_time": "2021-10-10T03:28:04.707Z"
   },
   {
    "duration": 941,
    "start_time": "2021-10-10T03:28:04.714Z"
   },
   {
    "duration": 15,
    "start_time": "2021-10-10T03:28:05.657Z"
   },
   {
    "duration": 247,
    "start_time": "2021-10-10T03:28:05.674Z"
   },
   {
    "duration": 11,
    "start_time": "2021-10-10T03:28:05.928Z"
   },
   {
    "duration": 673,
    "start_time": "2021-10-10T03:28:05.943Z"
   },
   {
    "duration": 24,
    "start_time": "2021-10-10T03:28:06.620Z"
   },
   {
    "duration": 13,
    "start_time": "2021-10-10T04:11:34.483Z"
   },
   {
    "duration": 174,
    "start_time": "2021-10-10T10:46:41.800Z"
   },
   {
    "duration": 330,
    "start_time": "2021-10-10T12:55:16.567Z"
   },
   {
    "duration": 1974,
    "start_time": "2021-10-10T12:55:19.555Z"
   },
   {
    "duration": 42,
    "start_time": "2021-10-10T12:55:21.531Z"
   },
   {
    "duration": 8,
    "start_time": "2021-10-10T12:55:21.576Z"
   },
   {
    "duration": 398,
    "start_time": "2021-10-10T12:55:21.587Z"
   },
   {
    "duration": 393,
    "start_time": "2021-10-10T12:55:21.987Z"
   },
   {
    "duration": 78,
    "start_time": "2021-10-10T12:55:22.382Z"
   },
   {
    "duration": 33,
    "start_time": "2021-10-10T12:55:22.463Z"
   },
   {
    "duration": 604,
    "start_time": "2021-10-10T12:55:22.498Z"
   },
   {
    "duration": 816,
    "start_time": "2021-10-10T12:55:23.106Z"
   },
   {
    "duration": 740,
    "start_time": "2021-10-10T12:55:23.925Z"
   },
   {
    "duration": 851,
    "start_time": "2021-10-10T12:55:24.668Z"
   },
   {
    "duration": 748,
    "start_time": "2021-10-10T12:55:25.522Z"
   },
   {
    "duration": 917,
    "start_time": "2021-10-10T12:55:26.273Z"
   },
   {
    "duration": 844,
    "start_time": "2021-10-10T12:55:27.193Z"
   },
   {
    "duration": 6,
    "start_time": "2021-10-10T12:55:28.039Z"
   },
   {
    "duration": 2254,
    "start_time": "2021-10-10T12:55:28.047Z"
   },
   {
    "duration": 21,
    "start_time": "2021-10-10T12:55:30.303Z"
   },
   {
    "duration": 288,
    "start_time": "2021-10-10T12:55:30.326Z"
   },
   {
    "duration": 5,
    "start_time": "2021-10-10T12:55:30.617Z"
   },
   {
    "duration": 863,
    "start_time": "2021-10-10T12:55:30.625Z"
   },
   {
    "duration": 20,
    "start_time": "2021-10-10T12:55:31.490Z"
   },
   {
    "duration": 260,
    "start_time": "2021-10-10T12:55:31.513Z"
   },
   {
    "duration": 27,
    "start_time": "2021-10-10T12:55:31.776Z"
   },
   {
    "duration": 680,
    "start_time": "2021-10-10T12:55:31.806Z"
   },
   {
    "duration": 27,
    "start_time": "2021-10-10T12:55:32.488Z"
   },
   {
    "duration": 37,
    "start_time": "2021-10-10T12:56:05.685Z"
   },
   {
    "duration": 44,
    "start_time": "2021-10-10T12:56:15.596Z"
   },
   {
    "duration": 48,
    "start_time": "2021-10-10T12:56:25.006Z"
   },
   {
    "duration": 416,
    "start_time": "2021-10-10T13:00:35.721Z"
   },
   {
    "duration": 273,
    "start_time": "2021-10-10T13:01:29.460Z"
   },
   {
    "duration": 110,
    "start_time": "2021-10-10T13:01:40.735Z"
   },
   {
    "duration": 50,
    "start_time": "2021-10-10T13:01:44.059Z"
   },
   {
    "duration": 8,
    "start_time": "2021-10-10T13:01:49.522Z"
   },
   {
    "duration": 46,
    "start_time": "2021-10-10T13:07:20.752Z"
   },
   {
    "duration": 46,
    "start_time": "2021-10-10T13:07:29.505Z"
   },
   {
    "duration": 43,
    "start_time": "2021-10-10T13:07:47.933Z"
   },
   {
    "duration": 845,
    "start_time": "2021-10-10T13:18:10.491Z"
   },
   {
    "duration": 827,
    "start_time": "2021-10-10T13:18:27.805Z"
   },
   {
    "duration": 789,
    "start_time": "2021-10-10T13:18:36.152Z"
   },
   {
    "duration": 104,
    "start_time": "2021-10-10T13:18:46.259Z"
   },
   {
    "duration": 52,
    "start_time": "2021-10-10T13:18:46.365Z"
   },
   {
    "duration": 7,
    "start_time": "2021-10-10T13:18:46.420Z"
   },
   {
    "duration": 493,
    "start_time": "2021-10-10T13:18:46.429Z"
   },
   {
    "duration": 589,
    "start_time": "2021-10-10T13:18:46.925Z"
   },
   {
    "duration": 107,
    "start_time": "2021-10-10T13:18:47.517Z"
   },
   {
    "duration": 33,
    "start_time": "2021-10-10T13:18:47.626Z"
   },
   {
    "duration": 624,
    "start_time": "2021-10-10T13:18:47.665Z"
   },
   {
    "duration": 922,
    "start_time": "2021-10-10T13:18:48.292Z"
   },
   {
    "duration": 741,
    "start_time": "2021-10-10T13:18:49.217Z"
   },
   {
    "duration": 866,
    "start_time": "2021-10-10T13:18:49.960Z"
   },
   {
    "duration": 745,
    "start_time": "2021-10-10T13:18:50.828Z"
   },
   {
    "duration": 820,
    "start_time": "2021-10-10T13:18:51.575Z"
   },
   {
    "duration": 902,
    "start_time": "2021-10-10T13:18:52.401Z"
   },
   {
    "duration": 5,
    "start_time": "2021-10-10T13:18:53.306Z"
   },
   {
    "duration": 2337,
    "start_time": "2021-10-10T13:18:53.314Z"
   },
   {
    "duration": 18,
    "start_time": "2021-10-10T13:18:55.653Z"
   },
   {
    "duration": 294,
    "start_time": "2021-10-10T13:18:55.674Z"
   },
   {
    "duration": 30,
    "start_time": "2021-10-10T13:18:55.971Z"
   },
   {
    "duration": 827,
    "start_time": "2021-10-10T13:18:56.004Z"
   },
   {
    "duration": 17,
    "start_time": "2021-10-10T13:18:56.834Z"
   },
   {
    "duration": 221,
    "start_time": "2021-10-10T13:18:56.854Z"
   },
   {
    "duration": 22,
    "start_time": "2021-10-10T13:18:57.080Z"
   },
   {
    "duration": 669,
    "start_time": "2021-10-10T13:18:57.105Z"
   },
   {
    "duration": 153,
    "start_time": "2021-10-10T13:18:57.776Z"
   },
   {
    "duration": 8222,
    "start_time": "2021-10-10T13:36:46.515Z"
   },
   {
    "duration": 12,
    "start_time": "2021-10-10T13:37:01.624Z"
   },
   {
    "duration": 873,
    "start_time": "2021-10-10T13:37:32.185Z"
   },
   {
    "duration": 11,
    "start_time": "2021-10-10T13:37:35.180Z"
   },
   {
    "duration": 732,
    "start_time": "2021-10-10T13:38:52.559Z"
   },
   {
    "duration": 12,
    "start_time": "2021-10-10T17:01:42.763Z"
   },
   {
    "duration": 7,
    "start_time": "2021-10-10T17:01:47.993Z"
   },
   {
    "duration": 118,
    "start_time": "2021-10-10T17:01:55.097Z"
   },
   {
    "duration": 52,
    "start_time": "2021-10-10T17:01:55.219Z"
   },
   {
    "duration": 7,
    "start_time": "2021-10-10T17:01:55.274Z"
   },
   {
    "duration": 466,
    "start_time": "2021-10-10T17:01:55.301Z"
   },
   {
    "duration": 452,
    "start_time": "2021-10-10T17:01:55.770Z"
   },
   {
    "duration": 67,
    "start_time": "2021-10-10T17:01:56.225Z"
   },
   {
    "duration": 34,
    "start_time": "2021-10-10T17:01:56.295Z"
   },
   {
    "duration": 609,
    "start_time": "2021-10-10T17:01:56.332Z"
   },
   {
    "duration": 795,
    "start_time": "2021-10-10T17:01:56.945Z"
   },
   {
    "duration": 738,
    "start_time": "2021-10-10T17:01:57.743Z"
   },
   {
    "duration": 1128,
    "start_time": "2021-10-10T17:01:58.484Z"
   },
   {
    "duration": 1139,
    "start_time": "2021-10-10T17:01:59.616Z"
   },
   {
    "duration": 1187,
    "start_time": "2021-10-10T17:02:00.758Z"
   },
   {
    "duration": 1216,
    "start_time": "2021-10-10T17:02:01.948Z"
   },
   {
    "duration": 6,
    "start_time": "2021-10-10T17:02:03.167Z"
   },
   {
    "duration": 2278,
    "start_time": "2021-10-10T17:02:03.176Z"
   },
   {
    "duration": 6,
    "start_time": "2021-10-10T17:02:05.456Z"
   },
   {
    "duration": 40,
    "start_time": "2021-10-10T17:02:05.464Z"
   },
   {
    "duration": 419,
    "start_time": "2021-10-10T17:02:05.507Z"
   },
   {
    "duration": 5,
    "start_time": "2021-10-10T17:02:05.929Z"
   },
   {
    "duration": 855,
    "start_time": "2021-10-10T17:02:05.937Z"
   },
   {
    "duration": 20,
    "start_time": "2021-10-10T17:02:06.795Z"
   },
   {
    "duration": 228,
    "start_time": "2021-10-10T17:02:06.820Z"
   },
   {
    "duration": 12,
    "start_time": "2021-10-10T17:02:07.051Z"
   },
   {
    "duration": 708,
    "start_time": "2021-10-10T17:02:07.066Z"
   },
   {
    "duration": 28,
    "start_time": "2021-10-10T17:02:07.777Z"
   },
   {
    "duration": 6,
    "start_time": "2021-10-10T17:22:58.197Z"
   },
   {
    "duration": 6,
    "start_time": "2021-10-10T17:23:12.228Z"
   },
   {
    "duration": 239,
    "start_time": "2021-10-10T17:23:42.938Z"
   },
   {
    "duration": 243,
    "start_time": "2021-10-10T17:23:51.580Z"
   },
   {
    "duration": 228,
    "start_time": "2021-10-10T17:24:02.904Z"
   },
   {
    "duration": 21,
    "start_time": "2021-10-10T20:48:26.582Z"
   },
   {
    "duration": 494,
    "start_time": "2021-10-10T20:55:34.636Z"
   },
   {
    "duration": 49,
    "start_time": "2021-10-10T20:55:35.132Z"
   },
   {
    "duration": 8,
    "start_time": "2021-10-10T20:55:35.184Z"
   },
   {
    "duration": 474,
    "start_time": "2021-10-10T20:55:35.194Z"
   },
   {
    "duration": 484,
    "start_time": "2021-10-10T20:55:35.670Z"
   },
   {
    "duration": 62,
    "start_time": "2021-10-10T20:55:36.156Z"
   },
   {
    "duration": 33,
    "start_time": "2021-10-10T20:55:36.220Z"
   },
   {
    "duration": 625,
    "start_time": "2021-10-10T20:55:36.257Z"
   },
   {
    "duration": 815,
    "start_time": "2021-10-10T20:55:36.885Z"
   },
   {
    "duration": 727,
    "start_time": "2021-10-10T20:55:37.703Z"
   },
   {
    "duration": 800,
    "start_time": "2021-10-10T20:55:38.433Z"
   },
   {
    "duration": 743,
    "start_time": "2021-10-10T20:55:39.236Z"
   },
   {
    "duration": 2369,
    "start_time": "2021-10-11T16:46:52.382Z"
   },
   {
    "duration": 43,
    "start_time": "2021-10-11T16:46:54.753Z"
   },
   {
    "duration": 8,
    "start_time": "2021-10-11T16:46:54.801Z"
   },
   {
    "duration": 420,
    "start_time": "2021-10-11T16:46:54.811Z"
   },
   {
    "duration": 403,
    "start_time": "2021-10-11T16:46:55.234Z"
   },
   {
    "duration": 52,
    "start_time": "2021-10-11T16:46:55.641Z"
   },
   {
    "duration": 32,
    "start_time": "2021-10-11T16:46:55.696Z"
   },
   {
    "duration": 598,
    "start_time": "2021-10-11T16:46:55.731Z"
   },
   {
    "duration": 793,
    "start_time": "2021-10-11T16:46:56.335Z"
   },
   {
    "duration": 704,
    "start_time": "2021-10-11T16:46:57.132Z"
   },
   {
    "duration": 824,
    "start_time": "2021-10-11T16:46:57.838Z"
   },
   {
    "duration": 809,
    "start_time": "2021-10-11T16:46:58.664Z"
   },
   {
    "duration": 801,
    "start_time": "2021-10-11T16:46:59.476Z"
   },
   {
    "duration": 908,
    "start_time": "2021-10-11T16:47:00.280Z"
   },
   {
    "duration": 6,
    "start_time": "2021-10-11T16:47:01.192Z"
   },
   {
    "duration": 2264,
    "start_time": "2021-10-11T16:47:01.200Z"
   },
   {
    "duration": 5,
    "start_time": "2021-10-11T16:47:03.467Z"
   },
   {
    "duration": 23,
    "start_time": "2021-10-11T16:47:03.475Z"
   },
   {
    "duration": 303,
    "start_time": "2021-10-11T16:47:03.501Z"
   },
   {
    "duration": 6,
    "start_time": "2021-10-11T16:47:03.806Z"
   },
   {
    "duration": 839,
    "start_time": "2021-10-11T16:47:03.814Z"
   },
   {
    "duration": 17,
    "start_time": "2021-10-11T16:47:04.662Z"
   },
   {
    "duration": 213,
    "start_time": "2021-10-11T16:47:04.682Z"
   },
   {
    "duration": 13,
    "start_time": "2021-10-11T16:47:04.898Z"
   },
   {
    "duration": 716,
    "start_time": "2021-10-11T16:47:04.914Z"
   },
   {
    "duration": 35,
    "start_time": "2021-10-11T16:47:05.633Z"
   },
   {
    "duration": 2220,
    "start_time": "2021-10-12T03:27:32.373Z"
   },
   {
    "duration": 48,
    "start_time": "2021-10-12T03:27:34.595Z"
   },
   {
    "duration": 7,
    "start_time": "2021-10-12T03:27:34.646Z"
   },
   {
    "duration": 422,
    "start_time": "2021-10-12T03:27:34.657Z"
   },
   {
    "duration": 415,
    "start_time": "2021-10-12T03:27:35.081Z"
   },
   {
    "duration": 104,
    "start_time": "2021-10-12T03:27:35.499Z"
   },
   {
    "duration": 34,
    "start_time": "2021-10-12T03:27:35.606Z"
   },
   {
    "duration": 637,
    "start_time": "2021-10-12T03:27:35.644Z"
   },
   {
    "duration": 809,
    "start_time": "2021-10-12T03:27:36.284Z"
   },
   {
    "duration": 741,
    "start_time": "2021-10-12T03:27:37.096Z"
   },
   {
    "duration": 838,
    "start_time": "2021-10-12T03:27:37.839Z"
   },
   {
    "duration": 734,
    "start_time": "2021-10-12T03:27:38.679Z"
   },
   {
    "duration": 970,
    "start_time": "2021-10-12T03:27:39.415Z"
   },
   {
    "duration": 957,
    "start_time": "2021-10-12T03:27:40.387Z"
   },
   {
    "duration": 5,
    "start_time": "2021-10-12T03:27:41.347Z"
   },
   {
    "duration": 2419,
    "start_time": "2021-10-12T03:27:41.359Z"
   },
   {
    "duration": 5,
    "start_time": "2021-10-12T03:27:43.780Z"
   },
   {
    "duration": 20,
    "start_time": "2021-10-12T03:27:43.787Z"
   },
   {
    "duration": 361,
    "start_time": "2021-10-12T03:27:43.810Z"
   },
   {
    "duration": 5,
    "start_time": "2021-10-12T03:27:44.174Z"
   },
   {
    "duration": 866,
    "start_time": "2021-10-12T03:27:44.181Z"
   },
   {
    "duration": 25,
    "start_time": "2021-10-12T03:27:45.049Z"
   },
   {
    "duration": 235,
    "start_time": "2021-10-12T03:27:45.079Z"
   },
   {
    "duration": 10,
    "start_time": "2021-10-12T03:27:45.317Z"
   },
   {
    "duration": 700,
    "start_time": "2021-10-12T03:27:45.330Z"
   },
   {
    "duration": 34,
    "start_time": "2021-10-12T03:27:46.033Z"
   },
   {
    "duration": 2234,
    "start_time": "2021-10-12T17:10:05.998Z"
   },
   {
    "duration": 49,
    "start_time": "2021-10-12T17:10:08.235Z"
   },
   {
    "duration": 8,
    "start_time": "2021-10-12T17:10:08.288Z"
   },
   {
    "duration": 431,
    "start_time": "2021-10-12T17:10:08.299Z"
   },
   {
    "duration": 413,
    "start_time": "2021-10-12T17:10:08.733Z"
   },
   {
    "duration": 53,
    "start_time": "2021-10-12T17:10:09.148Z"
   },
   {
    "duration": 33,
    "start_time": "2021-10-12T17:10:09.203Z"
   },
   {
    "duration": 619,
    "start_time": "2021-10-12T17:10:09.240Z"
   },
   {
    "duration": 826,
    "start_time": "2021-10-12T17:10:09.866Z"
   },
   {
    "duration": 726,
    "start_time": "2021-10-12T17:10:10.694Z"
   },
   {
    "duration": 861,
    "start_time": "2021-10-12T17:10:11.423Z"
   },
   {
    "duration": 759,
    "start_time": "2021-10-12T17:10:12.286Z"
   },
   {
    "duration": 1022,
    "start_time": "2021-10-12T17:10:13.048Z"
   },
   {
    "duration": 908,
    "start_time": "2021-10-12T17:10:14.072Z"
   },
   {
    "duration": 6,
    "start_time": "2021-10-12T17:10:14.982Z"
   },
   {
    "duration": 2391,
    "start_time": "2021-10-12T17:10:14.991Z"
   },
   {
    "duration": 5,
    "start_time": "2021-10-12T17:10:17.385Z"
   },
   {
    "duration": 24,
    "start_time": "2021-10-12T17:10:17.393Z"
   },
   {
    "duration": 306,
    "start_time": "2021-10-12T17:10:17.420Z"
   },
   {
    "duration": 5,
    "start_time": "2021-10-12T17:10:17.728Z"
   },
   {
    "duration": 922,
    "start_time": "2021-10-12T17:10:17.735Z"
   },
   {
    "duration": 15,
    "start_time": "2021-10-12T17:10:18.667Z"
   },
   {
    "duration": 225,
    "start_time": "2021-10-12T17:10:18.687Z"
   },
   {
    "duration": 11,
    "start_time": "2021-10-12T17:10:18.914Z"
   },
   {
    "duration": 693,
    "start_time": "2021-10-12T17:10:18.928Z"
   },
   {
    "duration": 23,
    "start_time": "2021-10-12T17:10:19.624Z"
   },
   {
    "duration": 104,
    "start_time": "2021-10-12T17:11:17.571Z"
   },
   {
    "duration": 47,
    "start_time": "2021-10-12T17:11:17.677Z"
   },
   {
    "duration": 7,
    "start_time": "2021-10-12T17:11:17.727Z"
   },
   {
    "duration": 505,
    "start_time": "2021-10-12T17:11:17.736Z"
   },
   {
    "duration": 475,
    "start_time": "2021-10-12T17:11:18.244Z"
   },
   {
    "duration": 55,
    "start_time": "2021-10-12T17:11:18.722Z"
   },
   {
    "duration": 33,
    "start_time": "2021-10-12T17:11:18.779Z"
   },
   {
    "duration": 643,
    "start_time": "2021-10-12T17:11:18.814Z"
   },
   {
    "duration": 852,
    "start_time": "2021-10-12T17:11:19.461Z"
   },
   {
    "duration": 751,
    "start_time": "2021-10-12T17:11:20.316Z"
   },
   {
    "duration": 926,
    "start_time": "2021-10-12T17:11:21.069Z"
   },
   {
    "duration": 758,
    "start_time": "2021-10-12T17:11:21.998Z"
   },
   {
    "duration": 824,
    "start_time": "2021-10-12T17:11:22.758Z"
   },
   {
    "duration": 855,
    "start_time": "2021-10-12T17:11:23.585Z"
   },
   {
    "duration": 5,
    "start_time": "2021-10-12T17:11:24.442Z"
   },
   {
    "duration": 2396,
    "start_time": "2021-10-12T17:11:24.450Z"
   },
   {
    "duration": 18,
    "start_time": "2021-10-12T17:11:26.849Z"
   },
   {
    "duration": 21,
    "start_time": "2021-10-12T17:11:26.870Z"
   },
   {
    "duration": 305,
    "start_time": "2021-10-12T17:11:26.893Z"
   },
   {
    "duration": 5,
    "start_time": "2021-10-12T17:11:27.201Z"
   },
   {
    "duration": 1006,
    "start_time": "2021-10-12T17:11:27.209Z"
   },
   {
    "duration": 16,
    "start_time": "2021-10-12T17:11:28.217Z"
   },
   {
    "duration": 273,
    "start_time": "2021-10-12T17:11:28.235Z"
   },
   {
    "duration": 12,
    "start_time": "2021-10-12T17:11:28.510Z"
   },
   {
    "duration": 811,
    "start_time": "2021-10-12T17:11:28.525Z"
   },
   {
    "duration": 37,
    "start_time": "2021-10-12T17:11:29.339Z"
   },
   {
    "duration": 883,
    "start_time": "2021-10-12T17:12:14.476Z"
   },
   {
    "duration": 95,
    "start_time": "2021-10-12T17:14:00.307Z"
   },
   {
    "duration": 8958,
    "start_time": "2021-10-12T17:14:07.592Z"
   },
   {
    "duration": 9108,
    "start_time": "2021-10-12T17:14:42.429Z"
   },
   {
    "duration": 9,
    "start_time": "2021-10-12T17:15:15.619Z"
   },
   {
    "duration": 97,
    "start_time": "2021-10-12T17:15:37.040Z"
   },
   {
    "duration": 7642,
    "start_time": "2021-10-12T17:15:41.050Z"
   },
   {
    "duration": 6814,
    "start_time": "2021-10-12T17:16:18.748Z"
   },
   {
    "duration": 6,
    "start_time": "2021-10-12T17:16:52.732Z"
   },
   {
    "duration": 1670,
    "start_time": "2021-10-12T17:17:39.001Z"
   },
   {
    "duration": 1753,
    "start_time": "2021-10-12T17:18:12.150Z"
   },
   {
    "duration": 1572,
    "start_time": "2021-10-12T17:18:48.461Z"
   },
   {
    "duration": 16,
    "start_time": "2021-10-12T17:40:31.832Z"
   },
   {
    "duration": 1659,
    "start_time": "2021-10-12T17:43:04.214Z"
   },
   {
    "duration": 112,
    "start_time": "2021-10-12T18:05:14.290Z"
   },
   {
    "duration": 164,
    "start_time": "2021-10-12T20:38:56.069Z"
   },
   {
    "duration": 1409,
    "start_time": "2021-10-12T20:39:10.623Z"
   },
   {
    "duration": 34,
    "start_time": "2021-10-12T20:39:12.034Z"
   },
   {
    "duration": 6,
    "start_time": "2021-10-12T20:39:12.070Z"
   },
   {
    "duration": 245,
    "start_time": "2021-10-12T20:39:12.078Z"
   },
   {
    "duration": 240,
    "start_time": "2021-10-12T20:39:12.325Z"
   },
   {
    "duration": 53,
    "start_time": "2021-10-12T20:39:12.566Z"
   },
   {
    "duration": 32,
    "start_time": "2021-10-12T20:39:12.621Z"
   },
   {
    "duration": 43,
    "start_time": "2021-10-12T20:39:12.655Z"
   },
   {
    "duration": -405,
    "start_time": "2021-10-12T20:39:13.105Z"
   },
   {
    "duration": -410,
    "start_time": "2021-10-12T20:39:13.111Z"
   },
   {
    "duration": -416,
    "start_time": "2021-10-12T20:39:13.118Z"
   },
   {
    "duration": -420,
    "start_time": "2021-10-12T20:39:13.123Z"
   },
   {
    "duration": -425,
    "start_time": "2021-10-12T20:39:13.129Z"
   },
   {
    "duration": -460,
    "start_time": "2021-10-12T20:39:13.165Z"
   },
   {
    "duration": -463,
    "start_time": "2021-10-12T20:39:13.169Z"
   },
   {
    "duration": -466,
    "start_time": "2021-10-12T20:39:13.173Z"
   },
   {
    "duration": -471,
    "start_time": "2021-10-12T20:39:13.180Z"
   },
   {
    "duration": -509,
    "start_time": "2021-10-12T20:39:13.218Z"
   },
   {
    "duration": -512,
    "start_time": "2021-10-12T20:39:13.222Z"
   },
   {
    "duration": -518,
    "start_time": "2021-10-12T20:39:13.229Z"
   },
   {
    "duration": -522,
    "start_time": "2021-10-12T20:39:13.234Z"
   },
   {
    "duration": -526,
    "start_time": "2021-10-12T20:39:13.239Z"
   },
   {
    "duration": -531,
    "start_time": "2021-10-12T20:39:13.245Z"
   },
   {
    "duration": -533,
    "start_time": "2021-10-12T20:39:13.249Z"
   },
   {
    "duration": -536,
    "start_time": "2021-10-12T20:39:13.253Z"
   },
   {
    "duration": -540,
    "start_time": "2021-10-12T20:39:13.257Z"
   },
   {
    "duration": -544,
    "start_time": "2021-10-12T20:39:13.262Z"
   },
   {
    "duration": -547,
    "start_time": "2021-10-12T20:39:13.266Z"
   },
   {
    "duration": -550,
    "start_time": "2021-10-12T20:39:13.270Z"
   },
   {
    "duration": 324,
    "start_time": "2021-10-12T20:39:36.441Z"
   },
   {
    "duration": 32,
    "start_time": "2021-10-12T20:39:36.766Z"
   },
   {
    "duration": 4,
    "start_time": "2021-10-12T20:39:36.800Z"
   },
   {
    "duration": 246,
    "start_time": "2021-10-12T20:39:36.806Z"
   },
   {
    "duration": 235,
    "start_time": "2021-10-12T20:39:37.054Z"
   },
   {
    "duration": 54,
    "start_time": "2021-10-12T20:39:37.290Z"
   },
   {
    "duration": 31,
    "start_time": "2021-10-12T20:39:37.345Z"
   },
   {
    "duration": 4,
    "start_time": "2021-10-12T20:39:37.378Z"
   },
   {
    "duration": 11,
    "start_time": "2021-10-12T20:39:37.384Z"
   },
   {
    "duration": 339,
    "start_time": "2021-10-12T20:39:37.397Z"
   },
   {
    "duration": 451,
    "start_time": "2021-10-12T20:39:37.738Z"
   },
   {
    "duration": 489,
    "start_time": "2021-10-12T20:39:38.190Z"
   },
   {
    "duration": 534,
    "start_time": "2021-10-12T20:39:38.680Z"
   },
   {
    "duration": 418,
    "start_time": "2021-10-12T20:39:39.216Z"
   },
   {
    "duration": 503,
    "start_time": "2021-10-12T20:39:39.635Z"
   },
   {
    "duration": 500,
    "start_time": "2021-10-12T20:39:40.140Z"
   },
   {
    "duration": 962,
    "start_time": "2021-10-12T20:39:40.641Z"
   },
   {
    "duration": 4,
    "start_time": "2021-10-12T20:39:41.605Z"
   },
   {
    "duration": 1428,
    "start_time": "2021-10-12T20:39:41.611Z"
   },
   {
    "duration": 4,
    "start_time": "2021-10-12T20:39:43.041Z"
   },
   {
    "duration": 14,
    "start_time": "2021-10-12T20:39:43.046Z"
   },
   {
    "duration": 131,
    "start_time": "2021-10-12T20:39:43.061Z"
   },
   {
    "duration": 3,
    "start_time": "2021-10-12T20:39:43.199Z"
   },
   {
    "duration": 506,
    "start_time": "2021-10-12T20:39:43.204Z"
   },
   {
    "duration": 10,
    "start_time": "2021-10-12T20:39:43.712Z"
   },
   {
    "duration": 131,
    "start_time": "2021-10-12T20:39:43.724Z"
   },
   {
    "duration": 8,
    "start_time": "2021-10-12T20:39:43.857Z"
   },
   {
    "duration": 420,
    "start_time": "2021-10-12T20:39:43.866Z"
   },
   {
    "duration": 127,
    "start_time": "2021-10-12T20:39:44.287Z"
   },
   {
    "duration": 49,
    "start_time": "2021-10-12T21:10:28.662Z"
   },
   {
    "duration": 207,
    "start_time": "2021-10-12T21:11:32.914Z"
   },
   {
    "duration": 40,
    "start_time": "2021-10-12T21:12:16.967Z"
   },
   {
    "duration": 44,
    "start_time": "2021-10-12T21:13:07.556Z"
   },
   {
    "duration": 158,
    "start_time": "2021-10-12T21:13:33.556Z"
   },
   {
    "duration": 381,
    "start_time": "2021-10-13T09:08:46.689Z"
   },
   {
    "duration": 2008,
    "start_time": "2021-10-13T09:11:21.600Z"
   },
   {
    "duration": 46,
    "start_time": "2021-10-13T09:11:23.611Z"
   },
   {
    "duration": 8,
    "start_time": "2021-10-13T09:11:23.661Z"
   },
   {
    "duration": 435,
    "start_time": "2021-10-13T09:11:23.673Z"
   },
   {
    "duration": 401,
    "start_time": "2021-10-13T09:11:24.111Z"
   },
   {
    "duration": 79,
    "start_time": "2021-10-13T09:11:24.515Z"
   },
   {
    "duration": 40,
    "start_time": "2021-10-13T09:11:24.596Z"
   },
   {
    "duration": 33,
    "start_time": "2021-10-13T09:11:24.641Z"
   },
   {
    "duration": 5,
    "start_time": "2021-10-13T09:11:24.677Z"
   },
   {
    "duration": 5,
    "start_time": "2021-10-13T09:11:24.685Z"
   },
   {
    "duration": 645,
    "start_time": "2021-10-13T09:11:24.692Z"
   },
   {
    "duration": 792,
    "start_time": "2021-10-13T09:11:25.339Z"
   },
   {
    "duration": 721,
    "start_time": "2021-10-13T09:11:26.133Z"
   },
   {
    "duration": 829,
    "start_time": "2021-10-13T09:11:26.856Z"
   },
   {
    "duration": 900,
    "start_time": "2021-10-13T09:11:27.687Z"
   },
   {
    "duration": 890,
    "start_time": "2021-10-13T09:11:28.590Z"
   },
   {
    "duration": 898,
    "start_time": "2021-10-13T09:11:29.483Z"
   },
   {
    "duration": 1635,
    "start_time": "2021-10-13T09:11:30.383Z"
   },
   {
    "duration": 5,
    "start_time": "2021-10-13T09:11:32.021Z"
   },
   {
    "duration": 2576,
    "start_time": "2021-10-13T09:11:32.029Z"
   },
   {
    "duration": 6,
    "start_time": "2021-10-13T09:11:34.607Z"
   },
   {
    "duration": 50,
    "start_time": "2021-10-13T09:11:34.616Z"
   },
   {
    "duration": 291,
    "start_time": "2021-10-13T09:11:34.671Z"
   },
   {
    "duration": 6,
    "start_time": "2021-10-13T09:11:34.964Z"
   },
   {
    "duration": 925,
    "start_time": "2021-10-13T09:11:34.973Z"
   },
   {
    "duration": 19,
    "start_time": "2021-10-13T09:11:35.900Z"
   },
   {
    "duration": 259,
    "start_time": "2021-10-13T09:11:35.922Z"
   },
   {
    "duration": 12,
    "start_time": "2021-10-13T09:11:36.183Z"
   },
   {
    "duration": 678,
    "start_time": "2021-10-13T09:11:36.198Z"
   },
   {
    "duration": 21,
    "start_time": "2021-10-13T09:11:36.878Z"
   },
   {
    "duration": 1843,
    "start_time": "2021-10-13T16:22:27.613Z"
   },
   {
    "duration": 36,
    "start_time": "2021-10-13T16:22:29.458Z"
   },
   {
    "duration": 5,
    "start_time": "2021-10-13T16:22:29.496Z"
   },
   {
    "duration": 238,
    "start_time": "2021-10-13T16:22:29.502Z"
   },
   {
    "duration": 228,
    "start_time": "2021-10-13T16:22:29.742Z"
   },
   {
    "duration": 58,
    "start_time": "2021-10-13T16:22:29.972Z"
   },
   {
    "duration": 34,
    "start_time": "2021-10-13T16:22:30.032Z"
   },
   {
    "duration": 11,
    "start_time": "2021-10-13T16:22:30.069Z"
   },
   {
    "duration": 11,
    "start_time": "2021-10-13T16:22:30.082Z"
   },
   {
    "duration": 17,
    "start_time": "2021-10-13T16:22:30.095Z"
   },
   {
    "duration": 358,
    "start_time": "2021-10-13T16:22:30.114Z"
   },
   {
    "duration": 611,
    "start_time": "2021-10-13T16:22:30.474Z"
   },
   {
    "duration": 436,
    "start_time": "2021-10-13T16:22:31.088Z"
   },
   {
    "duration": 538,
    "start_time": "2021-10-13T16:22:31.526Z"
   },
   {
    "duration": 487,
    "start_time": "2021-10-13T16:22:32.067Z"
   },
   {
    "duration": 613,
    "start_time": "2021-10-13T16:22:32.556Z"
   },
   {
    "duration": 471,
    "start_time": "2021-10-13T16:22:33.171Z"
   },
   {
    "duration": 1026,
    "start_time": "2021-10-13T16:22:33.644Z"
   },
   {
    "duration": 4,
    "start_time": "2021-10-13T16:22:34.672Z"
   },
   {
    "duration": 1499,
    "start_time": "2021-10-13T16:22:34.677Z"
   },
   {
    "duration": 4,
    "start_time": "2021-10-13T16:22:36.177Z"
   },
   {
    "duration": 42,
    "start_time": "2021-10-13T16:22:36.183Z"
   },
   {
    "duration": 133,
    "start_time": "2021-10-13T16:22:36.228Z"
   },
   {
    "duration": 4,
    "start_time": "2021-10-13T16:22:36.363Z"
   },
   {
    "duration": 503,
    "start_time": "2021-10-13T16:22:36.368Z"
   },
   {
    "duration": 11,
    "start_time": "2021-10-13T16:22:36.873Z"
   },
   {
    "duration": 113,
    "start_time": "2021-10-13T16:22:36.885Z"
   },
   {
    "duration": 7,
    "start_time": "2021-10-13T16:22:37.000Z"
   },
   {
    "duration": 393,
    "start_time": "2021-10-13T16:22:37.009Z"
   },
   {
    "duration": 17,
    "start_time": "2021-10-13T16:22:37.404Z"
   },
   {
    "duration": 318,
    "start_time": "2021-10-14T12:32:58.985Z"
   },
   {
    "duration": -255,
    "start_time": "2021-10-14T12:32:59.561Z"
   },
   {
    "duration": -265,
    "start_time": "2021-10-14T12:32:59.572Z"
   },
   {
    "duration": -284,
    "start_time": "2021-10-14T12:32:59.592Z"
   },
   {
    "duration": -291,
    "start_time": "2021-10-14T12:32:59.600Z"
   },
   {
    "duration": -299,
    "start_time": "2021-10-14T12:32:59.609Z"
   },
   {
    "duration": -308,
    "start_time": "2021-10-14T12:32:59.619Z"
   },
   {
    "duration": -316,
    "start_time": "2021-10-14T12:32:59.628Z"
   },
   {
    "duration": -323,
    "start_time": "2021-10-14T12:32:59.636Z"
   },
   {
    "duration": -328,
    "start_time": "2021-10-14T12:32:59.642Z"
   },
   {
    "duration": -334,
    "start_time": "2021-10-14T12:32:59.649Z"
   },
   {
    "duration": -338,
    "start_time": "2021-10-14T12:32:59.654Z"
   },
   {
    "duration": -342,
    "start_time": "2021-10-14T12:32:59.659Z"
   },
   {
    "duration": -347,
    "start_time": "2021-10-14T12:32:59.665Z"
   },
   {
    "duration": -351,
    "start_time": "2021-10-14T12:32:59.670Z"
   },
   {
    "duration": -355,
    "start_time": "2021-10-14T12:32:59.675Z"
   },
   {
    "duration": -359,
    "start_time": "2021-10-14T12:32:59.680Z"
   },
   {
    "duration": -364,
    "start_time": "2021-10-14T12:32:59.686Z"
   },
   {
    "duration": -379,
    "start_time": "2021-10-14T12:32:59.702Z"
   },
   {
    "duration": -384,
    "start_time": "2021-10-14T12:32:59.708Z"
   },
   {
    "duration": -388,
    "start_time": "2021-10-14T12:32:59.712Z"
   },
   {
    "duration": -393,
    "start_time": "2021-10-14T12:32:59.718Z"
   },
   {
    "duration": -397,
    "start_time": "2021-10-14T12:32:59.723Z"
   },
   {
    "duration": -403,
    "start_time": "2021-10-14T12:32:59.730Z"
   },
   {
    "duration": -408,
    "start_time": "2021-10-14T12:32:59.736Z"
   },
   {
    "duration": -414,
    "start_time": "2021-10-14T12:32:59.743Z"
   },
   {
    "duration": -429,
    "start_time": "2021-10-14T12:32:59.759Z"
   },
   {
    "duration": -475,
    "start_time": "2021-10-14T12:32:59.806Z"
   },
   {
    "duration": -503,
    "start_time": "2021-10-14T12:32:59.835Z"
   },
   {
    "duration": -542,
    "start_time": "2021-10-14T12:32:59.875Z"
   },
   {
    "duration": -570,
    "start_time": "2021-10-14T12:32:59.904Z"
   },
   {
    "duration": 573,
    "start_time": "2021-10-14T12:33:20.782Z"
   },
   {
    "duration": 18,
    "start_time": "2021-10-14T12:33:21.460Z"
   },
   {
    "duration": 29,
    "start_time": "2021-10-14T12:33:41.098Z"
   },
   {
    "duration": 4,
    "start_time": "2021-10-17T13:46:30.954Z"
   },
   {
    "duration": 20,
    "start_time": "2021-10-17T13:46:30.964Z"
   },
   {
    "duration": 2125,
    "start_time": "2021-10-17T13:46:30.986Z"
   },
   {
    "duration": 49,
    "start_time": "2021-10-17T13:46:33.114Z"
   },
   {
    "duration": 7,
    "start_time": "2021-10-17T13:46:33.165Z"
   },
   {
    "duration": 413,
    "start_time": "2021-10-17T13:46:33.175Z"
   },
   {
    "duration": 393,
    "start_time": "2021-10-17T13:46:33.590Z"
   },
   {
    "duration": 70,
    "start_time": "2021-10-17T13:46:33.987Z"
   },
   {
    "duration": 45,
    "start_time": "2021-10-17T13:46:34.060Z"
   },
   {
    "duration": 14,
    "start_time": "2021-10-17T13:46:34.109Z"
   },
   {
    "duration": 32,
    "start_time": "2021-10-17T13:46:34.126Z"
   },
   {
    "duration": 5,
    "start_time": "2021-10-17T13:46:34.161Z"
   },
   {
    "duration": 591,
    "start_time": "2021-10-17T13:46:34.168Z"
   },
   {
    "duration": 773,
    "start_time": "2021-10-17T13:46:34.762Z"
   },
   {
    "duration": 689,
    "start_time": "2021-10-17T13:46:35.538Z"
   },
   {
    "duration": 809,
    "start_time": "2021-10-17T13:46:36.230Z"
   },
   {
    "duration": 791,
    "start_time": "2021-10-17T13:46:37.042Z"
   },
   {
    "duration": 792,
    "start_time": "2021-10-17T13:46:37.836Z"
   },
   {
    "duration": 930,
    "start_time": "2021-10-17T13:46:38.631Z"
   },
   {
    "duration": 1519,
    "start_time": "2021-10-17T13:46:39.564Z"
   },
   {
    "duration": 6,
    "start_time": "2021-10-17T13:46:41.085Z"
   },
   {
    "duration": 2211,
    "start_time": "2021-10-17T13:46:41.093Z"
   },
   {
    "duration": 5,
    "start_time": "2021-10-17T13:46:43.307Z"
   },
   {
    "duration": 49,
    "start_time": "2021-10-17T13:46:43.315Z"
   },
   {
    "duration": 261,
    "start_time": "2021-10-17T13:46:43.366Z"
   },
   {
    "duration": 4,
    "start_time": "2021-10-17T13:46:43.630Z"
   },
   {
    "duration": 823,
    "start_time": "2021-10-17T13:46:43.637Z"
   },
   {
    "duration": 15,
    "start_time": "2021-10-17T13:46:44.465Z"
   },
   {
    "duration": 219,
    "start_time": "2021-10-17T13:46:44.483Z"
   },
   {
    "duration": 10,
    "start_time": "2021-10-17T13:46:44.705Z"
   },
   {
    "duration": 780,
    "start_time": "2021-10-17T13:46:44.717Z"
   },
   {
    "duration": 21,
    "start_time": "2021-10-17T13:46:45.500Z"
   },
   {
    "duration": 399,
    "start_time": "2021-10-19T21:10:19.542Z"
   },
   {
    "duration": 4,
    "start_time": "2021-10-19T21:10:22.869Z"
   },
   {
    "duration": 19,
    "start_time": "2021-10-19T21:10:22.875Z"
   },
   {
    "duration": 2028,
    "start_time": "2021-10-19T21:10:22.897Z"
   },
   {
    "duration": 55,
    "start_time": "2021-10-19T21:10:24.928Z"
   },
   {
    "duration": 8,
    "start_time": "2021-10-19T21:10:24.985Z"
   },
   {
    "duration": 420,
    "start_time": "2021-10-19T21:10:24.996Z"
   },
   {
    "duration": 407,
    "start_time": "2021-10-19T21:10:25.420Z"
   },
   {
    "duration": 118,
    "start_time": "2021-10-19T21:10:25.830Z"
   },
   {
    "duration": 50,
    "start_time": "2021-10-19T21:10:25.951Z"
   },
   {
    "duration": 16,
    "start_time": "2021-10-19T21:10:26.004Z"
   },
   {
    "duration": 5,
    "start_time": "2021-10-19T21:10:26.022Z"
   },
   {
    "duration": 16,
    "start_time": "2021-10-19T21:10:26.029Z"
   },
   {
    "duration": 635,
    "start_time": "2021-10-19T21:10:26.047Z"
   },
   {
    "duration": 802,
    "start_time": "2021-10-19T21:10:26.685Z"
   },
   {
    "duration": 752,
    "start_time": "2021-10-19T21:10:27.490Z"
   },
   {
    "duration": 859,
    "start_time": "2021-10-19T21:10:28.244Z"
   },
   {
    "duration": 849,
    "start_time": "2021-10-19T21:10:29.106Z"
   },
   {
    "duration": 845,
    "start_time": "2021-10-19T21:10:29.958Z"
   },
   {
    "duration": 865,
    "start_time": "2021-10-19T21:10:30.808Z"
   },
   {
    "duration": 1597,
    "start_time": "2021-10-19T21:10:31.676Z"
   },
   {
    "duration": 7,
    "start_time": "2021-10-19T21:10:33.276Z"
   },
   {
    "duration": 2499,
    "start_time": "2021-10-19T21:10:33.301Z"
   },
   {
    "duration": 8,
    "start_time": "2021-10-19T21:10:35.803Z"
   },
   {
    "duration": 22,
    "start_time": "2021-10-19T21:10:35.814Z"
   },
   {
    "duration": 308,
    "start_time": "2021-10-19T21:10:35.838Z"
   },
   {
    "duration": 5,
    "start_time": "2021-10-19T21:10:36.149Z"
   },
   {
    "duration": 993,
    "start_time": "2021-10-19T21:10:36.157Z"
   },
   {
    "duration": 26,
    "start_time": "2021-10-19T21:10:37.153Z"
   },
   {
    "duration": 294,
    "start_time": "2021-10-19T21:10:37.182Z"
   },
   {
    "duration": 25,
    "start_time": "2021-10-19T21:10:37.478Z"
   },
   {
    "duration": 733,
    "start_time": "2021-10-19T21:10:37.506Z"
   },
   {
    "duration": 22,
    "start_time": "2021-10-19T21:10:38.241Z"
   },
   {
    "duration": 4,
    "start_time": "2021-12-02T10:58:49.987Z"
   },
   {
    "duration": 18,
    "start_time": "2021-12-02T10:58:49.994Z"
   },
   {
    "duration": 2162,
    "start_time": "2021-12-02T10:58:50.015Z"
   },
   {
    "duration": 49,
    "start_time": "2021-12-02T10:58:52.180Z"
   },
   {
    "duration": 7,
    "start_time": "2021-12-02T10:58:52.231Z"
   },
   {
    "duration": 399,
    "start_time": "2021-12-02T10:58:52.240Z"
   },
   {
    "duration": 398,
    "start_time": "2021-12-02T10:58:52.642Z"
   },
   {
    "duration": 75,
    "start_time": "2021-12-02T10:58:53.043Z"
   },
   {
    "duration": 46,
    "start_time": "2021-12-02T10:58:53.121Z"
   },
   {
    "duration": 15,
    "start_time": "2021-12-02T10:58:53.169Z"
   },
   {
    "duration": 5,
    "start_time": "2021-12-02T10:58:53.186Z"
   },
   {
    "duration": 7,
    "start_time": "2021-12-02T10:58:53.193Z"
   },
   {
    "duration": 622,
    "start_time": "2021-12-02T10:58:53.203Z"
   },
   {
    "duration": 888,
    "start_time": "2021-12-02T10:58:53.827Z"
   },
   {
    "duration": 698,
    "start_time": "2021-12-02T10:58:54.717Z"
   },
   {
    "duration": 814,
    "start_time": "2021-12-02T10:58:55.418Z"
   },
   {
    "duration": 800,
    "start_time": "2021-12-02T10:58:56.235Z"
   },
   {
    "duration": 814,
    "start_time": "2021-12-02T10:58:57.040Z"
   },
   {
    "duration": 876,
    "start_time": "2021-12-02T10:58:57.860Z"
   },
   {
    "duration": 1660,
    "start_time": "2021-12-02T10:58:58.738Z"
   },
   {
    "duration": 6,
    "start_time": "2021-12-02T10:59:00.401Z"
   },
   {
    "duration": 2223,
    "start_time": "2021-12-02T10:59:00.409Z"
   },
   {
    "duration": 6,
    "start_time": "2021-12-02T10:59:02.634Z"
   },
   {
    "duration": 36,
    "start_time": "2021-12-02T10:59:02.642Z"
   },
   {
    "duration": 289,
    "start_time": "2021-12-02T10:59:02.681Z"
   },
   {
    "duration": 5,
    "start_time": "2021-12-02T10:59:02.972Z"
   },
   {
    "duration": 828,
    "start_time": "2021-12-02T10:59:02.980Z"
   },
   {
    "duration": 15,
    "start_time": "2021-12-02T10:59:03.811Z"
   },
   {
    "duration": 235,
    "start_time": "2021-12-02T10:59:03.829Z"
   },
   {
    "duration": 11,
    "start_time": "2021-12-02T10:59:04.067Z"
   },
   {
    "duration": 653,
    "start_time": "2021-12-02T10:59:04.080Z"
   },
   {
    "duration": 35,
    "start_time": "2021-12-02T10:59:04.736Z"
   },
   {
    "duration": 5,
    "start_time": "2021-12-02T11:02:16.679Z"
   },
   {
    "duration": 8,
    "start_time": "2021-12-02T11:08:10.750Z"
   },
   {
    "duration": 14,
    "start_time": "2021-12-02T11:08:11.566Z"
   },
   {
    "duration": 671,
    "start_time": "2021-12-02T11:40:44.024Z"
   },
   {
    "duration": 638,
    "start_time": "2021-12-02T11:40:54.416Z"
   },
   {
    "duration": 1534,
    "start_time": "2022-01-19T11:21:34.486Z"
   },
   {
    "duration": 420,
    "start_time": "2022-01-19T11:25:10.408Z"
   },
   {
    "duration": 1648,
    "start_time": "2022-01-19T11:25:36.049Z"
   },
   {
    "duration": 55,
    "start_time": "2022-01-19T11:25:37.699Z"
   },
   {
    "duration": 5,
    "start_time": "2022-01-19T11:25:37.756Z"
   },
   {
    "duration": 237,
    "start_time": "2022-01-19T11:25:37.763Z"
   },
   {
    "duration": 219,
    "start_time": "2022-01-19T11:25:38.002Z"
   },
   {
    "duration": 89,
    "start_time": "2022-01-19T11:25:38.222Z"
   },
   {
    "duration": 47,
    "start_time": "2022-01-19T11:25:38.312Z"
   },
   {
    "duration": 8,
    "start_time": "2022-01-19T11:25:38.362Z"
   },
   {
    "duration": 3,
    "start_time": "2022-01-19T11:25:38.372Z"
   },
   {
    "duration": 4,
    "start_time": "2022-01-19T11:25:38.377Z"
   },
   {
    "duration": 354,
    "start_time": "2022-01-19T11:25:38.382Z"
   },
   {
    "duration": 453,
    "start_time": "2022-01-19T11:25:38.738Z"
   },
   {
    "duration": 408,
    "start_time": "2022-01-19T11:25:39.193Z"
   },
   {
    "duration": 492,
    "start_time": "2022-01-19T11:25:39.603Z"
   },
   {
    "duration": 426,
    "start_time": "2022-01-19T11:25:40.097Z"
   },
   {
    "duration": 569,
    "start_time": "2022-01-19T11:25:40.525Z"
   },
   {
    "duration": 488,
    "start_time": "2022-01-19T11:25:41.096Z"
   },
   {
    "duration": 978,
    "start_time": "2022-01-19T11:25:41.586Z"
   },
   {
    "duration": 9,
    "start_time": "2022-01-19T11:25:42.566Z"
   },
   {
    "duration": 1433,
    "start_time": "2022-01-19T11:25:42.577Z"
   },
   {
    "duration": 4,
    "start_time": "2022-01-19T11:25:44.012Z"
   },
   {
    "duration": 13,
    "start_time": "2022-01-19T11:25:44.017Z"
   },
   {
    "duration": 134,
    "start_time": "2022-01-19T11:25:44.033Z"
   },
   {
    "duration": 3,
    "start_time": "2022-01-19T11:25:44.172Z"
   },
   {
    "duration": 470,
    "start_time": "2022-01-19T11:25:44.176Z"
   },
   {
    "duration": 9,
    "start_time": "2022-01-19T11:25:44.648Z"
   },
   {
    "duration": 134,
    "start_time": "2022-01-19T11:25:44.659Z"
   },
   {
    "duration": 9,
    "start_time": "2022-01-19T11:25:44.795Z"
   },
   {
    "duration": 396,
    "start_time": "2022-01-19T11:25:44.806Z"
   },
   {
    "duration": 16,
    "start_time": "2022-01-19T11:25:45.205Z"
   }
  ],
  "kernelspec": {
   "display_name": "Python 3",
   "language": "python",
   "name": "python3"
  },
  "language_info": {
   "codemirror_mode": {
    "name": "ipython",
    "version": 3
   },
   "file_extension": ".py",
   "mimetype": "text/x-python",
   "name": "python",
   "nbconvert_exporter": "python",
   "pygments_lexer": "ipython3",
   "version": "3.7.8"
  },
  "toc": {
   "base_numbering": 1,
   "nav_menu": {},
   "number_sections": false,
   "sideBar": true,
   "skip_h1_title": true,
   "title_cell": "Table of Contents",
   "title_sidebar": "Contents",
   "toc_cell": false,
   "toc_position": {},
   "toc_section_display": true,
   "toc_window_display": false
  }
 },
 "nbformat": 4,
 "nbformat_minor": 2
}
